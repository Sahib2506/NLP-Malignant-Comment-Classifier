{
 "cells": [
  {
   "cell_type": "code",
   "execution_count": 1,
   "id": "a4a4fb31",
   "metadata": {},
   "outputs": [],
   "source": [
    "import pandas as pd\n",
    "import numpy as np\n",
    "import seaborn as sns\n",
    "import matplotlib.pyplot as plt\n",
    "import warnings\n",
    "warnings.filterwarnings('ignore')"
   ]
  },
  {
   "cell_type": "code",
   "execution_count": 2,
   "id": "7f637b09",
   "metadata": {},
   "outputs": [
    {
     "data": {
      "text/html": [
       "<div>\n",
       "<style scoped>\n",
       "    .dataframe tbody tr th:only-of-type {\n",
       "        vertical-align: middle;\n",
       "    }\n",
       "\n",
       "    .dataframe tbody tr th {\n",
       "        vertical-align: top;\n",
       "    }\n",
       "\n",
       "    .dataframe thead th {\n",
       "        text-align: right;\n",
       "    }\n",
       "</style>\n",
       "<table border=\"1\" class=\"dataframe\">\n",
       "  <thead>\n",
       "    <tr style=\"text-align: right;\">\n",
       "      <th></th>\n",
       "      <th>id</th>\n",
       "      <th>comment_text</th>\n",
       "      <th>malignant</th>\n",
       "      <th>highly_malignant</th>\n",
       "      <th>rude</th>\n",
       "      <th>threat</th>\n",
       "      <th>abuse</th>\n",
       "      <th>loathe</th>\n",
       "    </tr>\n",
       "  </thead>\n",
       "  <tbody>\n",
       "    <tr>\n",
       "      <th>0</th>\n",
       "      <td>0000997932d777bf</td>\n",
       "      <td>Explanation\\nWhy the edits made under my usern...</td>\n",
       "      <td>0</td>\n",
       "      <td>0</td>\n",
       "      <td>0</td>\n",
       "      <td>0</td>\n",
       "      <td>0</td>\n",
       "      <td>0</td>\n",
       "    </tr>\n",
       "    <tr>\n",
       "      <th>1</th>\n",
       "      <td>000103f0d9cfb60f</td>\n",
       "      <td>D'aww! He matches this background colour I'm s...</td>\n",
       "      <td>0</td>\n",
       "      <td>0</td>\n",
       "      <td>0</td>\n",
       "      <td>0</td>\n",
       "      <td>0</td>\n",
       "      <td>0</td>\n",
       "    </tr>\n",
       "    <tr>\n",
       "      <th>2</th>\n",
       "      <td>000113f07ec002fd</td>\n",
       "      <td>Hey man, I'm really not trying to edit war. It...</td>\n",
       "      <td>0</td>\n",
       "      <td>0</td>\n",
       "      <td>0</td>\n",
       "      <td>0</td>\n",
       "      <td>0</td>\n",
       "      <td>0</td>\n",
       "    </tr>\n",
       "    <tr>\n",
       "      <th>3</th>\n",
       "      <td>0001b41b1c6bb37e</td>\n",
       "      <td>\"\\nMore\\nI can't make any real suggestions on ...</td>\n",
       "      <td>0</td>\n",
       "      <td>0</td>\n",
       "      <td>0</td>\n",
       "      <td>0</td>\n",
       "      <td>0</td>\n",
       "      <td>0</td>\n",
       "    </tr>\n",
       "    <tr>\n",
       "      <th>4</th>\n",
       "      <td>0001d958c54c6e35</td>\n",
       "      <td>You, sir, are my hero. Any chance you remember...</td>\n",
       "      <td>0</td>\n",
       "      <td>0</td>\n",
       "      <td>0</td>\n",
       "      <td>0</td>\n",
       "      <td>0</td>\n",
       "      <td>0</td>\n",
       "    </tr>\n",
       "  </tbody>\n",
       "</table>\n",
       "</div>"
      ],
      "text/plain": [
       "                 id                                       comment_text  \\\n",
       "0  0000997932d777bf  Explanation\\nWhy the edits made under my usern...   \n",
       "1  000103f0d9cfb60f  D'aww! He matches this background colour I'm s...   \n",
       "2  000113f07ec002fd  Hey man, I'm really not trying to edit war. It...   \n",
       "3  0001b41b1c6bb37e  \"\\nMore\\nI can't make any real suggestions on ...   \n",
       "4  0001d958c54c6e35  You, sir, are my hero. Any chance you remember...   \n",
       "\n",
       "   malignant  highly_malignant  rude  threat  abuse  loathe  \n",
       "0          0                 0     0       0      0       0  \n",
       "1          0                 0     0       0      0       0  \n",
       "2          0                 0     0       0      0       0  \n",
       "3          0                 0     0       0      0       0  \n",
       "4          0                 0     0       0      0       0  "
      ]
     },
     "execution_count": 2,
     "metadata": {},
     "output_type": "execute_result"
    }
   ],
   "source": [
    "df = pd.read_csv('train.csv')\n",
    "df.head()"
   ]
  },
  {
   "cell_type": "code",
   "execution_count": 3,
   "id": "884b187d",
   "metadata": {},
   "outputs": [],
   "source": [
    "#removing id as it does not impact the model\n",
    "df.drop('id', axis =1, inplace =True)"
   ]
  },
  {
   "cell_type": "code",
   "execution_count": 4,
   "id": "db58d8ae",
   "metadata": {},
   "outputs": [
    {
     "data": {
      "text/plain": [
       "(159571, 7)"
      ]
     },
     "execution_count": 4,
     "metadata": {},
     "output_type": "execute_result"
    }
   ],
   "source": [
    "#checking number of rows and columns of the given dataset\n",
    "df.shape"
   ]
  },
  {
   "cell_type": "code",
   "execution_count": 5,
   "id": "09f728ab",
   "metadata": {},
   "outputs": [
    {
     "data": {
      "text/plain": [
       "Index(['comment_text', 'malignant', 'highly_malignant', 'rude', 'threat',\n",
       "       'abuse', 'loathe'],\n",
       "      dtype='object')"
      ]
     },
     "execution_count": 5,
     "metadata": {},
     "output_type": "execute_result"
    }
   ],
   "source": [
    "df.columns"
   ]
  },
  {
   "cell_type": "code",
   "execution_count": 6,
   "id": "64c4cf8e",
   "metadata": {},
   "outputs": [
    {
     "name": "stdout",
     "output_type": "stream",
     "text": [
      "malignant\n",
      " 0    144277\n",
      "1     15294\n",
      "Name: malignant, dtype: int64\n",
      "0    157976\n",
      "1      1595\n",
      "Name: highly_malignant, dtype: int64\n",
      "0    151122\n",
      "1      8449\n",
      "Name: rude, dtype: int64\n",
      "0    159093\n",
      "1       478\n",
      "Name: threat, dtype: int64\n",
      "0    151694\n",
      "1      7877\n",
      "Name: abuse, dtype: int64\n",
      "0    158166\n",
      "1      1405\n",
      "Name: loathe, dtype: int64\n"
     ]
    }
   ],
   "source": [
    "#Lets check the value counts of each of the column\n",
    "print('malignant\\n',df['malignant'].value_counts())\n",
    "print(df['highly_malignant'].value_counts())\n",
    "print(df['rude'].value_counts())\n",
    "print(df['threat'].value_counts())\n",
    "print(df['abuse'].value_counts())\n",
    "print(df['loathe'].value_counts())"
   ]
  },
  {
   "cell_type": "code",
   "execution_count": 7,
   "id": "7281f659",
   "metadata": {},
   "outputs": [
    {
     "data": {
      "text/html": [
       "<div>\n",
       "<style scoped>\n",
       "    .dataframe tbody tr th:only-of-type {\n",
       "        vertical-align: middle;\n",
       "    }\n",
       "\n",
       "    .dataframe tbody tr th {\n",
       "        vertical-align: top;\n",
       "    }\n",
       "\n",
       "    .dataframe thead th {\n",
       "        text-align: right;\n",
       "    }\n",
       "</style>\n",
       "<table border=\"1\" class=\"dataframe\">\n",
       "  <thead>\n",
       "    <tr style=\"text-align: right;\">\n",
       "      <th></th>\n",
       "      <th>malignant</th>\n",
       "      <th>highly_malignant</th>\n",
       "      <th>rude</th>\n",
       "      <th>threat</th>\n",
       "      <th>abuse</th>\n",
       "      <th>loathe</th>\n",
       "    </tr>\n",
       "  </thead>\n",
       "  <tbody>\n",
       "    <tr>\n",
       "      <th>count</th>\n",
       "      <td>159571.000000</td>\n",
       "      <td>159571.000000</td>\n",
       "      <td>159571.000000</td>\n",
       "      <td>159571.000000</td>\n",
       "      <td>159571.000000</td>\n",
       "      <td>159571.000000</td>\n",
       "    </tr>\n",
       "    <tr>\n",
       "      <th>mean</th>\n",
       "      <td>0.095844</td>\n",
       "      <td>0.009996</td>\n",
       "      <td>0.052948</td>\n",
       "      <td>0.002996</td>\n",
       "      <td>0.049364</td>\n",
       "      <td>0.008805</td>\n",
       "    </tr>\n",
       "    <tr>\n",
       "      <th>std</th>\n",
       "      <td>0.294379</td>\n",
       "      <td>0.099477</td>\n",
       "      <td>0.223931</td>\n",
       "      <td>0.054650</td>\n",
       "      <td>0.216627</td>\n",
       "      <td>0.093420</td>\n",
       "    </tr>\n",
       "    <tr>\n",
       "      <th>min</th>\n",
       "      <td>0.000000</td>\n",
       "      <td>0.000000</td>\n",
       "      <td>0.000000</td>\n",
       "      <td>0.000000</td>\n",
       "      <td>0.000000</td>\n",
       "      <td>0.000000</td>\n",
       "    </tr>\n",
       "    <tr>\n",
       "      <th>25%</th>\n",
       "      <td>0.000000</td>\n",
       "      <td>0.000000</td>\n",
       "      <td>0.000000</td>\n",
       "      <td>0.000000</td>\n",
       "      <td>0.000000</td>\n",
       "      <td>0.000000</td>\n",
       "    </tr>\n",
       "    <tr>\n",
       "      <th>50%</th>\n",
       "      <td>0.000000</td>\n",
       "      <td>0.000000</td>\n",
       "      <td>0.000000</td>\n",
       "      <td>0.000000</td>\n",
       "      <td>0.000000</td>\n",
       "      <td>0.000000</td>\n",
       "    </tr>\n",
       "    <tr>\n",
       "      <th>75%</th>\n",
       "      <td>0.000000</td>\n",
       "      <td>0.000000</td>\n",
       "      <td>0.000000</td>\n",
       "      <td>0.000000</td>\n",
       "      <td>0.000000</td>\n",
       "      <td>0.000000</td>\n",
       "    </tr>\n",
       "    <tr>\n",
       "      <th>max</th>\n",
       "      <td>1.000000</td>\n",
       "      <td>1.000000</td>\n",
       "      <td>1.000000</td>\n",
       "      <td>1.000000</td>\n",
       "      <td>1.000000</td>\n",
       "      <td>1.000000</td>\n",
       "    </tr>\n",
       "  </tbody>\n",
       "</table>\n",
       "</div>"
      ],
      "text/plain": [
       "           malignant  highly_malignant           rude         threat  \\\n",
       "count  159571.000000     159571.000000  159571.000000  159571.000000   \n",
       "mean        0.095844          0.009996       0.052948       0.002996   \n",
       "std         0.294379          0.099477       0.223931       0.054650   \n",
       "min         0.000000          0.000000       0.000000       0.000000   \n",
       "25%         0.000000          0.000000       0.000000       0.000000   \n",
       "50%         0.000000          0.000000       0.000000       0.000000   \n",
       "75%         0.000000          0.000000       0.000000       0.000000   \n",
       "max         1.000000          1.000000       1.000000       1.000000   \n",
       "\n",
       "               abuse         loathe  \n",
       "count  159571.000000  159571.000000  \n",
       "mean        0.049364       0.008805  \n",
       "std         0.216627       0.093420  \n",
       "min         0.000000       0.000000  \n",
       "25%         0.000000       0.000000  \n",
       "50%         0.000000       0.000000  \n",
       "75%         0.000000       0.000000  \n",
       "max         1.000000       1.000000  "
      ]
     },
     "execution_count": 7,
     "metadata": {},
     "output_type": "execute_result"
    }
   ],
   "source": [
    "df.describe()"
   ]
  },
  {
   "cell_type": "code",
   "execution_count": 8,
   "id": "aa4ea634",
   "metadata": {},
   "outputs": [
    {
     "data": {
      "text/plain": [
       "comment_text        0\n",
       "malignant           0\n",
       "highly_malignant    0\n",
       "rude                0\n",
       "threat              0\n",
       "abuse               0\n",
       "loathe              0\n",
       "dtype: int64"
      ]
     },
     "execution_count": 8,
     "metadata": {},
     "output_type": "execute_result"
    }
   ],
   "source": [
    "# Checking for null values in the dataset\n",
    "df.isnull().sum()"
   ]
  },
  {
   "cell_type": "code",
   "execution_count": 11,
   "id": "a69f28cc",
   "metadata": {},
   "outputs": [
    {
     "data": {
      "text/plain": [
       "<AxesSubplot:>"
      ]
     },
     "execution_count": 11,
     "metadata": {},
     "output_type": "execute_result"
    },
    {
     "data": {
      "image/png": "[encoded data removed]",
      "text/plain": [
       "<Figure size 432x288 with 2 Axes>"
      ]
     },
     "metadata": {
      "needs_background": "light"
     },
     "output_type": "display_data"
    }
   ],
   "source": [
    "corr =  df.corr()\n",
    "sns.heatmap(corr)"
   ]
  },
  {
   "cell_type": "code",
   "execution_count": 21,
   "id": "04dcd104",
   "metadata": {},
   "outputs": [
    {
     "data": {
      "image/png": "[encoded data removed]",
      "text/plain": [
       "<Figure size 1080x720 with 6 Axes>"
      ]
     },
     "metadata": {
      "needs_background": "light"
     },
     "output_type": "display_data"
    }
   ],
   "source": [
    "col=['malignant','highly_malignant','loathe','rude','abuse','threat']\n",
    "\n",
    "plt.figure(figsize=[15,10])\n",
    "plotnumber = 1\n",
    "\n",
    "for i in col:\n",
    "    if plotnumber <= 6:\n",
    "        ax = plt.subplot(3,2,plotnumber)\n",
    "        sns.countplot(x=df[i])\n",
    "        plt.xlabel(i,fontsize=10)\n",
    "        plt.ylabel('Count', fontsize= 10)\n",
    "    plotnumber+=1\n",
    "plt.tight_layout()"
   ]
  },
  {
   "cell_type": "code",
   "execution_count": 6,
   "id": "70ce52b8",
   "metadata": {},
   "outputs": [
    {
     "name": "stdout",
     "output_type": "stream",
     "text": [
      "0    143346\n",
      "1      6360\n",
      "3      4209\n",
      "2      3480\n",
      "4      1760\n",
      "5       385\n",
      "6        31\n",
      "Name: Type, dtype: int64\n",
      "0    143346\n",
      "1     16225\n",
      "Name: Type, dtype: int64\n"
     ]
    }
   ],
   "source": [
    "#grouping\n",
    "cols_target = ['malignant','highly_malignant','rude','threat','abuse','loathe']\n",
    "df['Type'] =df[cols_target].sum(axis =1)\n",
    "print(df['Type'].value_counts())\n",
    "df['Type'] = df['Type'] > 0 \n",
    "df['Type'] = df['Type'].astype(int)\n",
    "print(df['Type'].value_counts())"
   ]
  },
  {
   "cell_type": "code",
   "execution_count": 10,
   "id": "e65d28bf",
   "metadata": {},
   "outputs": [
    {
     "data": {
      "image/png": "[encoded data removed]",
      "text/plain": [
       "<Figure size 432x288 with 1 Axes>"
      ]
     },
     "metadata": {
      "needs_background": "light"
     },
     "output_type": "display_data"
    }
   ],
   "source": [
    "sns.countplot(x=\"Type\" , data = df)\n",
    "plt.show()"
   ]
  },
  {
   "cell_type": "code",
   "execution_count": 7,
   "id": "0f920ecb",
   "metadata": {},
   "outputs": [],
   "source": [
    "import nltk"
   ]
  },
  {
   "cell_type": "code",
   "execution_count": 8,
   "id": "283f8f3c",
   "metadata": {},
   "outputs": [
    {
     "name": "stderr",
     "output_type": "stream",
     "text": [
      "[nltk_data] Downloading package punkt to\n",
      "[nltk_data]     C:\\Users\\OWNER\\AppData\\Roaming\\nltk_data...\n",
      "[nltk_data]   Package punkt is already up-to-date!\n"
     ]
    },
    {
     "data": {
      "text/plain": [
       "True"
      ]
     },
     "execution_count": 8,
     "metadata": {},
     "output_type": "execute_result"
    }
   ],
   "source": [
    "nltk.download('punkt')"
   ]
  },
  {
   "cell_type": "code",
   "execution_count": 9,
   "id": "066262f6",
   "metadata": {},
   "outputs": [
    {
     "name": "stderr",
     "output_type": "stream",
     "text": [
      "[nltk_data] Downloading package stopwords to\n",
      "[nltk_data]     C:\\Users\\OWNER\\AppData\\Roaming\\nltk_data...\n",
      "[nltk_data]   Package stopwords is already up-to-date!\n",
      "[nltk_data] Downloading package wordnet to\n",
      "[nltk_data]     C:\\Users\\OWNER\\AppData\\Roaming\\nltk_data...\n",
      "[nltk_data]   Package wordnet is already up-to-date!\n"
     ]
    },
    {
     "data": {
      "text/plain": [
       "True"
      ]
     },
     "execution_count": 9,
     "metadata": {},
     "output_type": "execute_result"
    }
   ],
   "source": [
    "nltk.download('stopwords')\n",
    "nltk.download('wordnet')"
   ]
  },
  {
   "cell_type": "code",
   "execution_count": 10,
   "id": "14ff3293",
   "metadata": {},
   "outputs": [],
   "source": [
    "from nltk.tokenize import word_tokenize\n",
    "from nltk.corpus import stopwords\n",
    "from nltk.stem.wordnet import WordNetLemmatizer\n",
    "from nltk.stem.porter import PorterStemmer"
   ]
  },
  {
   "cell_type": "code",
   "execution_count": 48,
   "id": "918cfc70",
   "metadata": {},
   "outputs": [],
   "source": [
    "df['tokenized_text'] = df['comment_text'].apply(word_tokenize)"
   ]
  },
  {
   "cell_type": "code",
   "execution_count": 49,
   "id": "08468553",
   "metadata": {},
   "outputs": [
    {
     "data": {
      "text/html": [
       "<div>\n",
       "<style scoped>\n",
       "    .dataframe tbody tr th:only-of-type {\n",
       "        vertical-align: middle;\n",
       "    }\n",
       "\n",
       "    .dataframe tbody tr th {\n",
       "        vertical-align: top;\n",
       "    }\n",
       "\n",
       "    .dataframe thead th {\n",
       "        text-align: right;\n",
       "    }\n",
       "</style>\n",
       "<table border=\"1\" class=\"dataframe\">\n",
       "  <thead>\n",
       "    <tr style=\"text-align: right;\">\n",
       "      <th></th>\n",
       "      <th>comment_text</th>\n",
       "      <th>malignant</th>\n",
       "      <th>highly_malignant</th>\n",
       "      <th>rude</th>\n",
       "      <th>threat</th>\n",
       "      <th>abuse</th>\n",
       "      <th>loathe</th>\n",
       "      <th>Type</th>\n",
       "      <th>tokenized_text</th>\n",
       "      <th>Lemmatized_Text</th>\n",
       "    </tr>\n",
       "  </thead>\n",
       "  <tbody>\n",
       "    <tr>\n",
       "      <th>0</th>\n",
       "      <td>Explanation\\nWhy the edits made under my usern...</td>\n",
       "      <td>0</td>\n",
       "      <td>0</td>\n",
       "      <td>0</td>\n",
       "      <td>0</td>\n",
       "      <td>0</td>\n",
       "      <td>0</td>\n",
       "      <td>0</td>\n",
       "      <td>[Explanation, Why, the, edits, made, under, my...</td>\n",
       "      <td>E, x, p, l, n, n, ,,  , W, h, ,,  , h, e, ,,  ...</td>\n",
       "    </tr>\n",
       "    <tr>\n",
       "      <th>1</th>\n",
       "      <td>D'aww! He matches this background colour I'm s...</td>\n",
       "      <td>0</td>\n",
       "      <td>0</td>\n",
       "      <td>0</td>\n",
       "      <td>0</td>\n",
       "      <td>0</td>\n",
       "      <td>0</td>\n",
       "      <td>0</td>\n",
       "      <td>[D'aww, !, He, matches, this, background, colo...</td>\n",
       "      <td>D, ', w, w, ,,  , ,,  , H, e, ,,  , c, h, e, ,...</td>\n",
       "    </tr>\n",
       "    <tr>\n",
       "      <th>2</th>\n",
       "      <td>Hey man, I'm really not trying to edit war. It...</td>\n",
       "      <td>0</td>\n",
       "      <td>0</td>\n",
       "      <td>0</td>\n",
       "      <td>0</td>\n",
       "      <td>0</td>\n",
       "      <td>0</td>\n",
       "      <td>0</td>\n",
       "      <td>[Hey, man, ,, I, 'm, really, not, trying, to, ...</td>\n",
       "      <td>H, e, ,,  , n, ,,  , ,, ,,  , I, ,,  , ', ,,  ...</td>\n",
       "    </tr>\n",
       "    <tr>\n",
       "      <th>3</th>\n",
       "      <td>\"\\nMore\\nI can't make any real suggestions on ...</td>\n",
       "      <td>0</td>\n",
       "      <td>0</td>\n",
       "      <td>0</td>\n",
       "      <td>0</td>\n",
       "      <td>0</td>\n",
       "      <td>0</td>\n",
       "      <td>0</td>\n",
       "      <td>[``, More, I, ca, n't, make, any, real, sugges...</td>\n",
       "      <td>`, `, ,,  , M, r, e, ,,  , I, ,,  , c, ,,  , n...</td>\n",
       "    </tr>\n",
       "    <tr>\n",
       "      <th>4</th>\n",
       "      <td>You, sir, are my hero. Any chance you remember...</td>\n",
       "      <td>0</td>\n",
       "      <td>0</td>\n",
       "      <td>0</td>\n",
       "      <td>0</td>\n",
       "      <td>0</td>\n",
       "      <td>0</td>\n",
       "      <td>0</td>\n",
       "      <td>[You, ,, sir, ,, are, my, hero, ., Any, chance...</td>\n",
       "      <td>Y, ,,  , ,, ,,  , r, ,,  , ,, ,,  , r, e, ,,  ...</td>\n",
       "    </tr>\n",
       "  </tbody>\n",
       "</table>\n",
       "</div>"
      ],
      "text/plain": [
       "                                        comment_text  malignant  \\\n",
       "0  Explanation\\nWhy the edits made under my usern...          0   \n",
       "1  D'aww! He matches this background colour I'm s...          0   \n",
       "2  Hey man, I'm really not trying to edit war. It...          0   \n",
       "3  \"\\nMore\\nI can't make any real suggestions on ...          0   \n",
       "4  You, sir, are my hero. Any chance you remember...          0   \n",
       "\n",
       "   highly_malignant  rude  threat  abuse  loathe  Type  \\\n",
       "0                 0     0       0      0       0     0   \n",
       "1                 0     0       0      0       0     0   \n",
       "2                 0     0       0      0       0     0   \n",
       "3                 0     0       0      0       0     0   \n",
       "4                 0     0       0      0       0     0   \n",
       "\n",
       "                                      tokenized_text  \\\n",
       "0  [Explanation, Why, the, edits, made, under, my...   \n",
       "1  [D'aww, !, He, matches, this, background, colo...   \n",
       "2  [Hey, man, ,, I, 'm, really, not, trying, to, ...   \n",
       "3  [``, More, I, ca, n't, make, any, real, sugges...   \n",
       "4  [You, ,, sir, ,, are, my, hero, ., Any, chance...   \n",
       "\n",
       "                                     Lemmatized_Text  \n",
       "0  E, x, p, l, n, n, ,,  , W, h, ,,  , h, e, ,,  ...  \n",
       "1  D, ', w, w, ,,  , ,,  , H, e, ,,  , c, h, e, ,...  \n",
       "2  H, e, ,,  , n, ,,  , ,, ,,  , I, ,,  , ', ,,  ...  \n",
       "3  `, `, ,,  , M, r, e, ,,  , I, ,,  , c, ,,  , n...  \n",
       "4  Y, ,,  , ,, ,,  , r, ,,  , ,, ,,  , r, e, ,,  ...  "
      ]
     },
     "execution_count": 49,
     "metadata": {},
     "output_type": "execute_result"
    }
   ],
   "source": [
    "df.head()"
   ]
  },
  {
   "cell_type": "code",
   "execution_count": 13,
   "id": "72f5b6ef",
   "metadata": {},
   "outputs": [],
   "source": [
    "lem = WordNetLemmatizer()"
   ]
  },
  {
   "cell_type": "code",
   "execution_count": 20,
   "id": "8ec2c939",
   "metadata": {},
   "outputs": [],
   "source": [
    "new_stopwords_list = set(stopwords.words('english') + ['u', 'ü', 'ur', '4', '2', 'im', 'dont', 'doin', 'ure','!','@','#','$','%','^','&','*','(',')'])"
   ]
  },
  {
   "cell_type": "code",
   "execution_count": 21,
   "id": "96de1791",
   "metadata": {},
   "outputs": [],
   "source": [
    "def lemmatize_text(text):\n",
    "    return [lem.lemmatize(w) for w in text if w not in new_stopwords_list]"
   ]
  },
  {
   "cell_type": "code",
   "execution_count": 50,
   "id": "7eec4409",
   "metadata": {},
   "outputs": [],
   "source": [
    "df['Lemmatized_Text'] = df['tokenized_text'].apply(lemmatize_text).apply(', '.join)"
   ]
  },
  {
   "cell_type": "code",
   "execution_count": 51,
   "id": "fdcf1b6c",
   "metadata": {},
   "outputs": [
    {
     "data": {
      "text/html": [
       "<div>\n",
       "<style scoped>\n",
       "    .dataframe tbody tr th:only-of-type {\n",
       "        vertical-align: middle;\n",
       "    }\n",
       "\n",
       "    .dataframe tbody tr th {\n",
       "        vertical-align: top;\n",
       "    }\n",
       "\n",
       "    .dataframe thead th {\n",
       "        text-align: right;\n",
       "    }\n",
       "</style>\n",
       "<table border=\"1\" class=\"dataframe\">\n",
       "  <thead>\n",
       "    <tr style=\"text-align: right;\">\n",
       "      <th></th>\n",
       "      <th>comment_text</th>\n",
       "      <th>malignant</th>\n",
       "      <th>highly_malignant</th>\n",
       "      <th>rude</th>\n",
       "      <th>threat</th>\n",
       "      <th>abuse</th>\n",
       "      <th>loathe</th>\n",
       "      <th>Type</th>\n",
       "      <th>tokenized_text</th>\n",
       "      <th>Lemmatized_Text</th>\n",
       "    </tr>\n",
       "  </thead>\n",
       "  <tbody>\n",
       "    <tr>\n",
       "      <th>0</th>\n",
       "      <td>Explanation\\nWhy the edits made under my usern...</td>\n",
       "      <td>0</td>\n",
       "      <td>0</td>\n",
       "      <td>0</td>\n",
       "      <td>0</td>\n",
       "      <td>0</td>\n",
       "      <td>0</td>\n",
       "      <td>0</td>\n",
       "      <td>[Explanation, Why, the, edits, made, under, my...</td>\n",
       "      <td>Explanation, Why, edits, made, username, Hardc...</td>\n",
       "    </tr>\n",
       "    <tr>\n",
       "      <th>1</th>\n",
       "      <td>D'aww! He matches this background colour I'm s...</td>\n",
       "      <td>0</td>\n",
       "      <td>0</td>\n",
       "      <td>0</td>\n",
       "      <td>0</td>\n",
       "      <td>0</td>\n",
       "      <td>0</td>\n",
       "      <td>0</td>\n",
       "      <td>[D'aww, !, He, matches, this, background, colo...</td>\n",
       "      <td>D'aww, He, match, background, colour, I, 'm, s...</td>\n",
       "    </tr>\n",
       "    <tr>\n",
       "      <th>2</th>\n",
       "      <td>Hey man, I'm really not trying to edit war. It...</td>\n",
       "      <td>0</td>\n",
       "      <td>0</td>\n",
       "      <td>0</td>\n",
       "      <td>0</td>\n",
       "      <td>0</td>\n",
       "      <td>0</td>\n",
       "      <td>0</td>\n",
       "      <td>[Hey, man, ,, I, 'm, really, not, trying, to, ...</td>\n",
       "      <td>Hey, man, ,, I, 'm, really, trying, edit, war,...</td>\n",
       "    </tr>\n",
       "    <tr>\n",
       "      <th>3</th>\n",
       "      <td>\"\\nMore\\nI can't make any real suggestions on ...</td>\n",
       "      <td>0</td>\n",
       "      <td>0</td>\n",
       "      <td>0</td>\n",
       "      <td>0</td>\n",
       "      <td>0</td>\n",
       "      <td>0</td>\n",
       "      <td>0</td>\n",
       "      <td>[``, More, I, ca, n't, make, any, real, sugges...</td>\n",
       "      <td>``, More, I, ca, n't, make, real, suggestion, ...</td>\n",
       "    </tr>\n",
       "    <tr>\n",
       "      <th>4</th>\n",
       "      <td>You, sir, are my hero. Any chance you remember...</td>\n",
       "      <td>0</td>\n",
       "      <td>0</td>\n",
       "      <td>0</td>\n",
       "      <td>0</td>\n",
       "      <td>0</td>\n",
       "      <td>0</td>\n",
       "      <td>0</td>\n",
       "      <td>[You, ,, sir, ,, are, my, hero, ., Any, chance...</td>\n",
       "      <td>You, ,, sir, ,, hero, ., Any, chance, remember...</td>\n",
       "    </tr>\n",
       "  </tbody>\n",
       "</table>\n",
       "</div>"
      ],
      "text/plain": [
       "                                        comment_text  malignant  \\\n",
       "0  Explanation\\nWhy the edits made under my usern...          0   \n",
       "1  D'aww! He matches this background colour I'm s...          0   \n",
       "2  Hey man, I'm really not trying to edit war. It...          0   \n",
       "3  \"\\nMore\\nI can't make any real suggestions on ...          0   \n",
       "4  You, sir, are my hero. Any chance you remember...          0   \n",
       "\n",
       "   highly_malignant  rude  threat  abuse  loathe  Type  \\\n",
       "0                 0     0       0      0       0     0   \n",
       "1                 0     0       0      0       0     0   \n",
       "2                 0     0       0      0       0     0   \n",
       "3                 0     0       0      0       0     0   \n",
       "4                 0     0       0      0       0     0   \n",
       "\n",
       "                                      tokenized_text  \\\n",
       "0  [Explanation, Why, the, edits, made, under, my...   \n",
       "1  [D'aww, !, He, matches, this, background, colo...   \n",
       "2  [Hey, man, ,, I, 'm, really, not, trying, to, ...   \n",
       "3  [``, More, I, ca, n't, make, any, real, sugges...   \n",
       "4  [You, ,, sir, ,, are, my, hero, ., Any, chance...   \n",
       "\n",
       "                                     Lemmatized_Text  \n",
       "0  Explanation, Why, edits, made, username, Hardc...  \n",
       "1  D'aww, He, match, background, colour, I, 'm, s...  \n",
       "2  Hey, man, ,, I, 'm, really, trying, edit, war,...  \n",
       "3  ``, More, I, ca, n't, make, real, suggestion, ...  \n",
       "4  You, ,, sir, ,, hero, ., Any, chance, remember...  "
      ]
     },
     "execution_count": 51,
     "metadata": {},
     "output_type": "execute_result"
    }
   ],
   "source": [
    "df.head()"
   ]
  },
  {
   "cell_type": "code",
   "execution_count": 52,
   "id": "091a13ca",
   "metadata": {},
   "outputs": [
    {
     "data": {
      "text/html": [
       "<div>\n",
       "<style scoped>\n",
       "    .dataframe tbody tr th:only-of-type {\n",
       "        vertical-align: middle;\n",
       "    }\n",
       "\n",
       "    .dataframe tbody tr th {\n",
       "        vertical-align: top;\n",
       "    }\n",
       "\n",
       "    .dataframe thead th {\n",
       "        text-align: right;\n",
       "    }\n",
       "</style>\n",
       "<table border=\"1\" class=\"dataframe\">\n",
       "  <thead>\n",
       "    <tr style=\"text-align: right;\">\n",
       "      <th></th>\n",
       "      <th>comment_text</th>\n",
       "      <th>malignant</th>\n",
       "      <th>highly_malignant</th>\n",
       "      <th>rude</th>\n",
       "      <th>threat</th>\n",
       "      <th>abuse</th>\n",
       "      <th>loathe</th>\n",
       "      <th>Type</th>\n",
       "      <th>tokenized_text</th>\n",
       "      <th>Lemmatized_Text</th>\n",
       "    </tr>\n",
       "  </thead>\n",
       "  <tbody>\n",
       "    <tr>\n",
       "      <th>0</th>\n",
       "      <td>Explanation\\nWhy the edits made under my usern...</td>\n",
       "      <td>0</td>\n",
       "      <td>0</td>\n",
       "      <td>0</td>\n",
       "      <td>0</td>\n",
       "      <td>0</td>\n",
       "      <td>0</td>\n",
       "      <td>0</td>\n",
       "      <td>[Explanation, Why, the, edits, made, under, my...</td>\n",
       "      <td>explanation why edits made username hardcore m...</td>\n",
       "    </tr>\n",
       "    <tr>\n",
       "      <th>1</th>\n",
       "      <td>D'aww! He matches this background colour I'm s...</td>\n",
       "      <td>0</td>\n",
       "      <td>0</td>\n",
       "      <td>0</td>\n",
       "      <td>0</td>\n",
       "      <td>0</td>\n",
       "      <td>0</td>\n",
       "      <td>0</td>\n",
       "      <td>[D'aww, !, He, matches, this, background, colo...</td>\n",
       "      <td>daww he match background colour i m seemingly ...</td>\n",
       "    </tr>\n",
       "    <tr>\n",
       "      <th>2</th>\n",
       "      <td>Hey man, I'm really not trying to edit war. It...</td>\n",
       "      <td>0</td>\n",
       "      <td>0</td>\n",
       "      <td>0</td>\n",
       "      <td>0</td>\n",
       "      <td>0</td>\n",
       "      <td>0</td>\n",
       "      <td>0</td>\n",
       "      <td>[Hey, man, ,, I, 'm, really, not, trying, to, ...</td>\n",
       "      <td>hey man  i m really trying edit war  it s guy ...</td>\n",
       "    </tr>\n",
       "    <tr>\n",
       "      <th>3</th>\n",
       "      <td>\"\\nMore\\nI can't make any real suggestions on ...</td>\n",
       "      <td>0</td>\n",
       "      <td>0</td>\n",
       "      <td>0</td>\n",
       "      <td>0</td>\n",
       "      <td>0</td>\n",
       "      <td>0</td>\n",
       "      <td>0</td>\n",
       "      <td>[``, More, I, ca, n't, make, any, real, sugges...</td>\n",
       "      <td>more i ca nt make real suggestion improvement...</td>\n",
       "    </tr>\n",
       "    <tr>\n",
       "      <th>4</th>\n",
       "      <td>You, sir, are my hero. Any chance you remember...</td>\n",
       "      <td>0</td>\n",
       "      <td>0</td>\n",
       "      <td>0</td>\n",
       "      <td>0</td>\n",
       "      <td>0</td>\n",
       "      <td>0</td>\n",
       "      <td>0</td>\n",
       "      <td>[You, ,, sir, ,, are, my, hero, ., Any, chance...</td>\n",
       "      <td>you  sir  hero  any chance remember page s</td>\n",
       "    </tr>\n",
       "  </tbody>\n",
       "</table>\n",
       "</div>"
      ],
      "text/plain": [
       "                                        comment_text  malignant  \\\n",
       "0  Explanation\\nWhy the edits made under my usern...          0   \n",
       "1  D'aww! He matches this background colour I'm s...          0   \n",
       "2  Hey man, I'm really not trying to edit war. It...          0   \n",
       "3  \"\\nMore\\nI can't make any real suggestions on ...          0   \n",
       "4  You, sir, are my hero. Any chance you remember...          0   \n",
       "\n",
       "   highly_malignant  rude  threat  abuse  loathe  Type  \\\n",
       "0                 0     0       0      0       0     0   \n",
       "1                 0     0       0      0       0     0   \n",
       "2                 0     0       0      0       0     0   \n",
       "3                 0     0       0      0       0     0   \n",
       "4                 0     0       0      0       0     0   \n",
       "\n",
       "                                      tokenized_text  \\\n",
       "0  [Explanation, Why, the, edits, made, under, my...   \n",
       "1  [D'aww, !, He, matches, this, background, colo...   \n",
       "2  [Hey, man, ,, I, 'm, really, not, trying, to, ...   \n",
       "3  [``, More, I, ca, n't, make, any, real, sugges...   \n",
       "4  [You, ,, sir, ,, are, my, hero, ., Any, chance...   \n",
       "\n",
       "                                     Lemmatized_Text  \n",
       "0  explanation why edits made username hardcore m...  \n",
       "1  daww he match background colour i m seemingly ...  \n",
       "2  hey man  i m really trying edit war  it s guy ...  \n",
       "3   more i ca nt make real suggestion improvement...  \n",
       "4        you  sir  hero  any chance remember page s   "
      ]
     },
     "execution_count": 52,
     "metadata": {},
     "output_type": "execute_result"
    }
   ],
   "source": [
    "df['Lemmatized_Text'] = df['Lemmatized_Text'].str.lower()\n",
    "df['Lemmatized_Text'] = df['Lemmatized_Text'].apply(lambda x: re.sub(r\"(@[A-Za-z0-9]+)|([^0-9A-Za-z \\t])|(\\w+:\\/\\/\\S+)|^rt|http.+?\", \"\", x))\n",
    "df['Lemmatized_Text'] = df['Lemmatized_Text'].apply(lambda x: re.sub(r\"\\d+\", \"\", x))\n",
    "df.head()"
   ]
  },
  {
   "cell_type": "code",
   "execution_count": 54,
   "id": "a8c2d85e",
   "metadata": {},
   "outputs": [],
   "source": [
    "from sklearn.feature_extraction.text import TfidfVectorizer"
   ]
  },
  {
   "cell_type": "code",
   "execution_count": 67,
   "id": "f9ed0d65",
   "metadata": {},
   "outputs": [
    {
     "data": {
      "text/plain": [
       "(159571, 100000)"
      ]
     },
     "execution_count": 67,
     "metadata": {},
     "output_type": "execute_result"
    }
   ],
   "source": [
    "cv = TfidfVectorizer(stop_words='english',\n",
    "    sublinear_tf=True,\n",
    "    strip_accents='unicode',\n",
    "    analyzer='word',\n",
    "    token_pattern=r'\\w{2,}',  #vectorize 2-character words or more\n",
    "    ngram_range=(1, 1),\n",
    "    max_features=100000)\n",
    "\n",
    "# Use the content column instead of our single text variable\n",
    "x = cv.fit_transform(df['Lemmatized_Text'])\n",
    "x.shape"
   ]
  },
  {
   "cell_type": "code",
   "execution_count": 57,
   "id": "c65d7834",
   "metadata": {},
   "outputs": [],
   "source": [
    "y = df['Type']"
   ]
  },
  {
   "cell_type": "code",
   "execution_count": 77,
   "id": "ce71556b",
   "metadata": {},
   "outputs": [
    {
     "data": {
      "text/plain": [
       "(159571, 100000)"
      ]
     },
     "execution_count": 77,
     "metadata": {},
     "output_type": "execute_result"
    }
   ],
   "source": [
    "x.shape"
   ]
  },
  {
   "cell_type": "code",
   "execution_count": 78,
   "id": "985048cd",
   "metadata": {},
   "outputs": [],
   "source": [
    "from sklearn.model_selection import train_test_split\n",
    "x_train, x_test, y_train, y_test = train_test_split(x,y,test_size = 0.25, random_state = 100)"
   ]
  },
  {
   "cell_type": "code",
   "execution_count": 96,
   "id": "de0e8a34",
   "metadata": {},
   "outputs": [],
   "source": [
    "mnb = MultinomialNB()"
   ]
  },
  {
   "cell_type": "code",
   "execution_count": 79,
   "id": "b419296f",
   "metadata": {},
   "outputs": [],
   "source": [
    "#Training model using Naive bayes Classifier\n",
    "\n",
    "from sklearn.naive_bayes import MultinomialNB\n",
    "nb_model = MultinomialNB().fit(x_train,y_train)\n",
    "nb_ypred = nb_model.predict(x_test)"
   ]
  },
  {
   "cell_type": "code",
   "execution_count": 80,
   "id": "0b256335",
   "metadata": {},
   "outputs": [
    {
     "name": "stdout",
     "output_type": "stream",
     "text": [
      "[[35805    17]\n",
      " [ 2975  1096]]\n"
     ]
    }
   ],
   "source": [
    "#Confusion Matrix for Naive Byes\n",
    "from sklearn.metrics import confusion_matrix\n",
    "print(confusion_matrix(y_test,nb_ypred))"
   ]
  },
  {
   "cell_type": "code",
   "execution_count": 73,
   "id": "1188fc62",
   "metadata": {},
   "outputs": [],
   "source": [
    "from sklearn.metrics import accuracy_score\n",
    "from sklearn.metrics import confusion_matrix, classification_report\n",
    "from sklearn.metrics import roc_curve, roc_auc_score, plot_roc_curve"
   ]
  },
  {
   "cell_type": "code",
   "execution_count": 86,
   "id": "9791128b",
   "metadata": {},
   "outputs": [
    {
     "name": "stdout",
     "output_type": "stream",
     "text": [
      "---Accuracy Score for Naive Byes---\n",
      "\n",
      " 0.9249993733236408\n",
      "\n",
      "---Classification Report for Naive Byes---\n",
      "\n",
      "               precision    recall  f1-score   support\n",
      "\n",
      "           0       0.92      1.00      0.96     35822\n",
      "           1       0.98      0.27      0.42      4071\n",
      "\n",
      "    accuracy                           0.92     39893\n",
      "   macro avg       0.95      0.63      0.69     39893\n",
      "weighted avg       0.93      0.92      0.91     39893\n",
      "\n",
      "\n",
      "---ROC AUC SCORE---\n",
      "\n",
      " 0.63437337642091\n"
     ]
    }
   ],
   "source": [
    "print('---Accuracy Score for Naive Byes---\\n\\n',accuracy_score(y_test,nb_ypred))\n",
    "print('\\n---Classification Report for Naive Byes---\\n\\n',classification_report(y_test,nb_ypred))\n",
    "print('\\n---ROC AUC SCORE---\\n\\n',roc_auc_score(y_test,nb_ypred))"
   ]
  },
  {
   "cell_type": "code",
   "execution_count": 87,
   "id": "1af06822",
   "metadata": {},
   "outputs": [],
   "source": [
    "from sklearn.linear_model import LogisticRegression\n",
    "from sklearn.tree import DecisionTreeClassifier\n",
    "from sklearn.ensemble import RandomForestClassifier\n",
    "from xgboost import XGBClassifier"
   ]
  },
  {
   "cell_type": "code",
   "execution_count": 88,
   "id": "773a54df",
   "metadata": {},
   "outputs": [],
   "source": [
    "lr = LogisticRegression()\n",
    "dt = DecisionTreeClassifier()\n",
    "rf = RandomForestClassifier()\n",
    "xgb = XGBClassifier()"
   ]
  },
  {
   "cell_type": "code",
   "execution_count": 89,
   "id": "34e34baa",
   "metadata": {},
   "outputs": [
    {
     "name": "stdout",
     "output_type": "stream",
     "text": [
      "[16:27:31] WARNING: ..\\src\\learner.cc:1061: Starting in XGBoost 1.3.0, the default evaluation metric used with the objective 'binary:logistic' was changed from 'error' to 'logloss'. Explicitly set eval_metric if you'd like to restore the old behavior.\n",
      "All Models Trained\n"
     ]
    }
   ],
   "source": [
    "#training with the all of them\n",
    "\n",
    "lr.fit(x_train,y_train)\n",
    "dt.fit(x_train,y_train)\n",
    "rf.fit(x_train,y_train)\n",
    "xgb.fit(x_train,y_train)\n",
    "\n",
    "print(\"All Models Trained\")"
   ]
  },
  {
   "cell_type": "code",
   "execution_count": 90,
   "id": "b8d37996",
   "metadata": {},
   "outputs": [
    {
     "name": "stdout",
     "output_type": "stream",
     "text": [
      "All scores Captured\n"
     ]
    }
   ],
   "source": [
    "lr.score(x_test,y_test)\n",
    "dt.score(x_test,y_test)\n",
    "rf.score(x_test,y_test)\n",
    "xgb.score(x_test,y_test)\n",
    "\n",
    "print(\"All scores Captured\")"
   ]
  },
  {
   "cell_type": "code",
   "execution_count": 91,
   "id": "1d3f8a00",
   "metadata": {},
   "outputs": [
    {
     "name": "stdout",
     "output_type": "stream",
     "text": [
      "Logistic Regression = 0.9536510164690547\n",
      "Decision Tree = 0.9406662823051664\n",
      "Random Forest = 0.9532248765447572\n",
      "Xtreme Gradient Boost = 0.9517459203369012\n"
     ]
    }
   ],
   "source": [
    "#Accuracy score\n",
    "print('Logistic Regression =', accuracy_score(y_test,lr.predict(x_test)))\n",
    "print('Decision Tree =', accuracy_score(y_test,dt.predict(x_test)))\n",
    "print('Random Forest =', accuracy_score(y_test,rf.predict(x_test)))\n",
    "print('Xtreme Gradient Boost =', accuracy_score(y_test,xgb.predict(x_test)))"
   ]
  },
  {
   "cell_type": "code",
   "execution_count": 92,
   "id": "c5b96184",
   "metadata": {},
   "outputs": [
    {
     "name": "stdout",
     "output_type": "stream",
     "text": [
      "Logistic Regression = 0.7919567774454441\n",
      "Decision Tree = 0.829795469509501\n",
      "Random Forest = 0.7979246295457352\n",
      "Xtreme Gradient Boost = 0.7871946673583149\n"
     ]
    }
   ],
   "source": [
    "#Lets check the roc_auc_score of every model\n",
    "\n",
    "print('Logistic Regression =', roc_auc_score(y_test,lr.predict(x_test)))\n",
    "print('Decision Tree =', roc_auc_score(y_test,dt.predict(x_test)))\n",
    "print('Random Forest =', roc_auc_score(y_test,rf.predict(x_test)))\n",
    "print('Xtreme Gradient Boost =', roc_auc_score(y_test,xgb.predict(x_test)))"
   ]
  },
  {
   "cell_type": "code",
   "execution_count": 93,
   "id": "e711f87c",
   "metadata": {},
   "outputs": [
    {
     "name": "stdout",
     "output_type": "stream",
     "text": [
      "Classification report of Logistic Regression \n",
      "               precision    recall  f1-score   support\n",
      "\n",
      "           0       0.96      1.00      0.97     35822\n",
      "           1       0.93      0.59      0.72      4071\n",
      "\n",
      "    accuracy                           0.95     39893\n",
      "   macro avg       0.94      0.79      0.85     39893\n",
      "weighted avg       0.95      0.95      0.95     39893\n",
      "\n",
      "Classification report of Decision Tree \n",
      "               precision    recall  f1-score   support\n",
      "\n",
      "           0       0.96      0.97      0.97     35822\n",
      "           1       0.72      0.69      0.70      4071\n",
      "\n",
      "    accuracy                           0.94     39893\n",
      "   macro avg       0.84      0.83      0.84     39893\n",
      "weighted avg       0.94      0.94      0.94     39893\n",
      "\n",
      "Classification report of Random Forest \n",
      "               precision    recall  f1-score   support\n",
      "\n",
      "           0       0.96      0.99      0.97     35822\n",
      "           1       0.91      0.60      0.72      4071\n",
      "\n",
      "    accuracy                           0.95     39893\n",
      "   macro avg       0.93      0.80      0.85     39893\n",
      "weighted avg       0.95      0.95      0.95     39893\n",
      "\n",
      "Classification report of Xtreme Gradient Boost \n",
      "               precision    recall  f1-score   support\n",
      "\n",
      "           0       0.95      0.99      0.97     35822\n",
      "           1       0.92      0.58      0.71      4071\n",
      "\n",
      "    accuracy                           0.95     39893\n",
      "   macro avg       0.94      0.79      0.84     39893\n",
      "weighted avg       0.95      0.95      0.95     39893\n",
      "\n"
     ]
    }
   ],
   "source": [
    "#Classification Report\n",
    "\n",
    "print('Classification report of Logistic Regression \\n', classification_report(y_test,lr.predict(x_test)))\n",
    "print('Classification report of Decision Tree \\n', classification_report(y_test,dt.predict(x_test)))\n",
    "print('Classification report of Random Forest \\n', classification_report(y_test,rf.predict(x_test)))\n",
    "print('Classification report of Xtreme Gradient Boost \\n', classification_report(y_test,xgb.predict(x_test)))"
   ]
  },
  {
   "cell_type": "code",
   "execution_count": 94,
   "id": "49fdf5a2",
   "metadata": {},
   "outputs": [
    {
     "name": "stdout",
     "output_type": "stream",
     "text": [
      "Confusion Matrix of Logistic Regression\n",
      " [[35647   175]\n",
      " [ 1674  2397]]\n",
      "Confusion Matrix of Decision Tree\n",
      " [[34715  1107]\n",
      " [ 1260  2811]]\n",
      "Confusion Matrix of Random Forest \n",
      " [[35573   249]\n",
      " [ 1617  2454]]\n",
      "Confusion Matrix of Xtreme Gradient Boost \n",
      " [[35605   217]\n",
      " [ 1708  2363]]\n"
     ]
    }
   ],
   "source": [
    "print('Confusion Matrix of Logistic Regression\\n', confusion_matrix(y_test,lr.predict(x_test)))\n",
    "print('Confusion Matrix of Decision Tree\\n', confusion_matrix(y_test,dt.predict(x_test)))\n",
    "print('Confusion Matrix of Random Forest \\n', confusion_matrix(y_test,rf.predict(x_test)))\n",
    "print('Confusion Matrix of Xtreme Gradient Boost \\n', confusion_matrix(y_test,xgb.predict(x_test)))"
   ]
  },
  {
   "cell_type": "code",
   "execution_count": 98,
   "id": "5e979e6f",
   "metadata": {},
   "outputs": [
    {
     "data": {
      "image/png": "[encoded data removed]",
      "text/plain": [
       "<Figure size 432x288 with 1 Axes>"
      ]
     },
     "metadata": {
      "needs_background": "light"
     },
     "output_type": "display_data"
    }
   ],
   "source": [
    "curve = plot_roc_curve(lr,x_test,y_test)\n",
    "\n",
    "plot_roc_curve(dt,x_test,y_test,ax=curve.ax_)\n",
    "\n",
    "plot_roc_curve(rf,x_test,y_test,ax=curve.ax_)\n",
    "\n",
    "plot_roc_curve(xgb,x_test,y_test,ax=curve.ax_)\n",
    "\n",
    "plt.title('Roc_Auc_Curve', fontsize = 10)\n",
    "plt.tight_layout()"
   ]
  },
  {
   "cell_type": "code",
   "execution_count": null,
   "id": "0ddbaaee",
   "metadata": {},
   "outputs": [],
   "source": [
    "# After checking all the parameters we can see that LogisticRegression is giving us the best predictions for this dataset."
   ]
  },
  {
   "cell_type": "code",
   "execution_count": 99,
   "id": "763748ff",
   "metadata": {},
   "outputs": [],
   "source": [
    "from sklearn.model_selection import GridSearchCV"
   ]
  },
  {
   "cell_type": "markdown",
   "id": "3ef9ea41",
   "metadata": {},
   "source": [
    "**Hyperparameter Tuning**"
   ]
  },
  {
   "cell_type": "code",
   "execution_count": 100,
   "id": "cb02829c",
   "metadata": {},
   "outputs": [],
   "source": [
    "params = {'penalty': ['l1', 'l2', 'elasticnet', 'none'],\n",
    "         'C':[1.0,2.0],\n",
    "         'solver' : ['newton-cg', 'lbfgs', 'liblinear', 'sag', 'saga'],\n",
    "          'max_iter':[100,110],\n",
    "         }"
   ]
  },
  {
   "cell_type": "code",
   "execution_count": 101,
   "id": "f4bdb217",
   "metadata": {},
   "outputs": [],
   "source": [
    "grid = GridSearchCV(lr, param_grid= params, cv = 2, n_jobs=-1)"
   ]
  },
  {
   "cell_type": "code",
   "execution_count": 102,
   "id": "44f53491",
   "metadata": {},
   "outputs": [
    {
     "data": {
      "text/plain": [
       "GridSearchCV(cv=2, estimator=LogisticRegression(), n_jobs=-1,\n",
       "             param_grid={'C': [1.0, 2.0], 'max_iter': [100, 110],\n",
       "                         'penalty': ['l1', 'l2', 'elasticnet', 'none'],\n",
       "                         'solver': ['newton-cg', 'lbfgs', 'liblinear', 'sag',\n",
       "                                    'saga']})"
      ]
     },
     "execution_count": 102,
     "metadata": {},
     "output_type": "execute_result"
    }
   ],
   "source": [
    "grid.fit(x_train,y_train)"
   ]
  },
  {
   "cell_type": "code",
   "execution_count": 104,
   "id": "948444d8",
   "metadata": {},
   "outputs": [
    {
     "name": "stdout",
     "output_type": "stream",
     "text": [
      "Best Estimators == > \n",
      " {'C': 2.0, 'max_iter': 110, 'penalty': 'l1', 'solver': 'liblinear'}\n"
     ]
    }
   ],
   "source": [
    "print('Best Estimators == > \\n', grid.best_params_)"
   ]
  },
  {
   "cell_type": "code",
   "execution_count": 105,
   "id": "5a886fe2",
   "metadata": {},
   "outputs": [],
   "source": [
    "clf= grid.best_estimator_"
   ]
  },
  {
   "cell_type": "code",
   "execution_count": 106,
   "id": "a7a9336b",
   "metadata": {},
   "outputs": [
    {
     "data": {
      "text/plain": [
       "LogisticRegression(C=2.0, max_iter=110, penalty='l1', solver='liblinear')"
      ]
     },
     "execution_count": 106,
     "metadata": {},
     "output_type": "execute_result"
    }
   ],
   "source": [
    "clf.fit(x_train, y_train)"
   ]
  },
  {
   "cell_type": "code",
   "execution_count": 107,
   "id": "17352faa",
   "metadata": {},
   "outputs": [],
   "source": [
    "y_pred =  clf.predict(x_test)"
   ]
  },
  {
   "cell_type": "code",
   "execution_count": 108,
   "id": "dfd67301",
   "metadata": {},
   "outputs": [
    {
     "name": "stdout",
     "output_type": "stream",
     "text": [
      "Accuracy Score= 0.9587646955606247\n",
      "Confusion Matrix\n",
      " [[35446   376]\n",
      " [ 1269  2802]]\n",
      "ROC_AUC Score= 0.8388933170630334\n",
      "Classification Report\n",
      "               precision    recall  f1-score   support\n",
      "\n",
      "           0       0.97      0.99      0.98     35822\n",
      "           1       0.88      0.69      0.77      4071\n",
      "\n",
      "    accuracy                           0.96     39893\n",
      "   macro avg       0.92      0.84      0.88     39893\n",
      "weighted avg       0.96      0.96      0.96     39893\n",
      "\n"
     ]
    }
   ],
   "source": [
    "print('Accuracy Score=',accuracy_score(y_test,y_pred))\n",
    "print('Confusion Matrix\\n',confusion_matrix(y_test,y_pred))\n",
    "print('ROC_AUC Score=',roc_auc_score(y_test,y_pred))\n",
    "print('Classification Report\\n',classification_report(y_test,y_pred))"
   ]
  },
  {
   "cell_type": "code",
   "execution_count": 112,
   "id": "0c31ced0",
   "metadata": {},
   "outputs": [
    {
     "data": {
      "text/plain": [
       "0.9597357886409617"
      ]
     },
     "execution_count": 112,
     "metadata": {},
     "output_type": "execute_result"
    }
   ],
   "source": [
    "#Cross Validating.\n",
    "\n",
    "from sklearn.model_selection import cross_val_score\n",
    "\n",
    "cvs_lr = cross_val_score(clf,x,y,cv=4)\n",
    "\n",
    "cvs_lr.mean()"
   ]
  },
  {
   "cell_type": "code",
   "execution_count": 113,
   "id": "0cc80b32",
   "metadata": {},
   "outputs": [
    {
     "data": {
      "image/png": "[encoded data removed]",
      "text/plain": [
       "<Figure size 432x288 with 1 Axes>"
      ]
     },
     "metadata": {
      "needs_background": "light"
     },
     "output_type": "display_data"
    }
   ],
   "source": [
    "#Plotting ROC_AUC Curve for the model\n",
    "plot_roc_curve(clf,x_test,y_test)\n",
    "plt.title('Roc_Auc_Curve', fontsize = 10)\n",
    "plt.tight_layout()"
   ]
  },
  {
   "cell_type": "code",
   "execution_count": null,
   "id": "dc84c92f",
   "metadata": {},
   "outputs": [],
   "source": []
  }
 ],
 "metadata": {
  "kernelspec": {
   "display_name": "Python [conda env:root] *",
   "language": "python",
   "name": "conda-root-py"
  },
  "language_info": {
   "codemirror_mode": {
    "name": "ipython",
    "version": 3
   },
   "file_extension": ".py",
   "mimetype": "text/x-python",
   "name": "python",
   "nbconvert_exporter": "python",
   "pygments_lexer": "ipython3",
   "version": "3.8.11"
  }
 },
 "nbformat": 4,
 "nbformat_minor": 5
}
