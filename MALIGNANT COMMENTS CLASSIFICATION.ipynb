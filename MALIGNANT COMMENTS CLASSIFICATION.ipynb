{
 "cells": [
  {
   "cell_type": "code",
   "execution_count": 1,
   "id": "a4a4fb31",
   "metadata": {},
   "outputs": [],
   "source": [
    "import pandas as pd\n",
    "import numpy as np\n",
    "import seaborn as sns\n",
    "import matplotlib.pyplot as plt\n",
    "import warnings\n",
    "warnings.filterwarnings('ignore')"
   ]
  },
  {
   "cell_type": "code",
   "execution_count": 3,
   "id": "7f637b09",
   "metadata": {},
   "outputs": [
    {
     "data": {
      "text/html": [
       "<div>\n",
       "<style scoped>\n",
       "    .dataframe tbody tr th:only-of-type {\n",
       "        vertical-align: middle;\n",
       "    }\n",
       "\n",
       "    .dataframe tbody tr th {\n",
       "        vertical-align: top;\n",
       "    }\n",
       "\n",
       "    .dataframe thead th {\n",
       "        text-align: right;\n",
       "    }\n",
       "</style>\n",
       "<table border=\"1\" class=\"dataframe\">\n",
       "  <thead>\n",
       "    <tr style=\"text-align: right;\">\n",
       "      <th></th>\n",
       "      <th>id</th>\n",
       "      <th>comment_text</th>\n",
       "      <th>malignant</th>\n",
       "      <th>highly_malignant</th>\n",
       "      <th>rude</th>\n",
       "      <th>threat</th>\n",
       "      <th>abuse</th>\n",
       "      <th>loathe</th>\n",
       "    </tr>\n",
       "  </thead>\n",
       "  <tbody>\n",
       "    <tr>\n",
       "      <th>0</th>\n",
       "      <td>0000997932d777bf</td>\n",
       "      <td>Explanation\\nWhy the edits made under my usern...</td>\n",
       "      <td>0</td>\n",
       "      <td>0</td>\n",
       "      <td>0</td>\n",
       "      <td>0</td>\n",
       "      <td>0</td>\n",
       "      <td>0</td>\n",
       "    </tr>\n",
       "    <tr>\n",
       "      <th>1</th>\n",
       "      <td>000103f0d9cfb60f</td>\n",
       "      <td>D'aww! He matches this background colour I'm s...</td>\n",
       "      <td>0</td>\n",
       "      <td>0</td>\n",
       "      <td>0</td>\n",
       "      <td>0</td>\n",
       "      <td>0</td>\n",
       "      <td>0</td>\n",
       "    </tr>\n",
       "    <tr>\n",
       "      <th>2</th>\n",
       "      <td>000113f07ec002fd</td>\n",
       "      <td>Hey man, I'm really not trying to edit war. It...</td>\n",
       "      <td>0</td>\n",
       "      <td>0</td>\n",
       "      <td>0</td>\n",
       "      <td>0</td>\n",
       "      <td>0</td>\n",
       "      <td>0</td>\n",
       "    </tr>\n",
       "    <tr>\n",
       "      <th>3</th>\n",
       "      <td>0001b41b1c6bb37e</td>\n",
       "      <td>\"\\nMore\\nI can't make any real suggestions on ...</td>\n",
       "      <td>0</td>\n",
       "      <td>0</td>\n",
       "      <td>0</td>\n",
       "      <td>0</td>\n",
       "      <td>0</td>\n",
       "      <td>0</td>\n",
       "    </tr>\n",
       "    <tr>\n",
       "      <th>4</th>\n",
       "      <td>0001d958c54c6e35</td>\n",
       "      <td>You, sir, are my hero. Any chance you remember...</td>\n",
       "      <td>0</td>\n",
       "      <td>0</td>\n",
       "      <td>0</td>\n",
       "      <td>0</td>\n",
       "      <td>0</td>\n",
       "      <td>0</td>\n",
       "    </tr>\n",
       "  </tbody>\n",
       "</table>\n",
       "</div>"
      ],
      "text/plain": [
       "                 id                                       comment_text  \\\n",
       "0  0000997932d777bf  Explanation\\nWhy the edits made under my usern...   \n",
       "1  000103f0d9cfb60f  D'aww! He matches this background colour I'm s...   \n",
       "2  000113f07ec002fd  Hey man, I'm really not trying to edit war. It...   \n",
       "3  0001b41b1c6bb37e  \"\\nMore\\nI can't make any real suggestions on ...   \n",
       "4  0001d958c54c6e35  You, sir, are my hero. Any chance you remember...   \n",
       "\n",
       "   malignant  highly_malignant  rude  threat  abuse  loathe  \n",
       "0          0                 0     0       0      0       0  \n",
       "1          0                 0     0       0      0       0  \n",
       "2          0                 0     0       0      0       0  \n",
       "3          0                 0     0       0      0       0  \n",
       "4          0                 0     0       0      0       0  "
      ]
     },
     "execution_count": 3,
     "metadata": {},
     "output_type": "execute_result"
    }
   ],
   "source": [
    "df = pd.read_csv('train.csv')\n",
    "df.head()"
   ]
  },
  {
   "cell_type": "code",
   "execution_count": 4,
   "id": "884b187d",
   "metadata": {},
   "outputs": [],
   "source": [
    "#removing id as it does not impact the model\n",
    "df.drop('id', axis =1, inplace =True)"
   ]
  },
  {
   "cell_type": "code",
   "execution_count": 4,
   "id": "db58d8ae",
   "metadata": {},
   "outputs": [
    {
     "data": {
      "text/plain": [
       "(159571, 7)"
      ]
     },
     "execution_count": 4,
     "metadata": {},
     "output_type": "execute_result"
    }
   ],
   "source": [
    "#checking number of rows and columns of the given dataset\n",
    "df.shape"
   ]
  },
  {
   "cell_type": "code",
   "execution_count": 5,
   "id": "09f728ab",
   "metadata": {},
   "outputs": [
    {
     "data": {
      "text/plain": [
       "Index(['comment_text', 'malignant', 'highly_malignant', 'rude', 'threat',\n",
       "       'abuse', 'loathe'],\n",
       "      dtype='object')"
      ]
     },
     "execution_count": 5,
     "metadata": {},
     "output_type": "execute_result"
    }
   ],
   "source": [
    "df.columns"
   ]
  },
  {
   "cell_type": "code",
   "execution_count": 5,
   "id": "64c4cf8e",
   "metadata": {},
   "outputs": [
    {
     "name": "stdout",
     "output_type": "stream",
     "text": [
      "0    144277\n",
      "1     15294\n",
      "Name: malignant, dtype: int64\n",
      "0    157976\n",
      "1      1595\n",
      "Name: highly_malignant, dtype: int64\n",
      "0    151122\n",
      "1      8449\n",
      "Name: rude, dtype: int64\n",
      "0    159093\n",
      "1       478\n",
      "Name: threat, dtype: int64\n",
      "0    151694\n",
      "1      7877\n",
      "Name: abuse, dtype: int64\n",
      "0    158166\n",
      "1      1405\n",
      "Name: loathe, dtype: int64\n"
     ]
    }
   ],
   "source": [
    "#Lets check the value counts of each of the column\n",
    "print(df['malignant'].value_counts())\n",
    "print(df['highly_malignant'].value_counts())\n",
    "print(df['rude'].value_counts())\n",
    "print(df['threat'].value_counts())\n",
    "print(df['abuse'].value_counts())\n",
    "print(df['loathe'].value_counts())"
   ]
  },
  {
   "cell_type": "code",
   "execution_count": 7,
   "id": "7281f659",
   "metadata": {},
   "outputs": [
    {
     "data": {
      "text/html": [
       "<div>\n",
       "<style scoped>\n",
       "    .dataframe tbody tr th:only-of-type {\n",
       "        vertical-align: middle;\n",
       "    }\n",
       "\n",
       "    .dataframe tbody tr th {\n",
       "        vertical-align: top;\n",
       "    }\n",
       "\n",
       "    .dataframe thead th {\n",
       "        text-align: right;\n",
       "    }\n",
       "</style>\n",
       "<table border=\"1\" class=\"dataframe\">\n",
       "  <thead>\n",
       "    <tr style=\"text-align: right;\">\n",
       "      <th></th>\n",
       "      <th>malignant</th>\n",
       "      <th>highly_malignant</th>\n",
       "      <th>rude</th>\n",
       "      <th>threat</th>\n",
       "      <th>abuse</th>\n",
       "      <th>loathe</th>\n",
       "    </tr>\n",
       "  </thead>\n",
       "  <tbody>\n",
       "    <tr>\n",
       "      <th>count</th>\n",
       "      <td>159571.000000</td>\n",
       "      <td>159571.000000</td>\n",
       "      <td>159571.000000</td>\n",
       "      <td>159571.000000</td>\n",
       "      <td>159571.000000</td>\n",
       "      <td>159571.000000</td>\n",
       "    </tr>\n",
       "    <tr>\n",
       "      <th>mean</th>\n",
       "      <td>0.095844</td>\n",
       "      <td>0.009996</td>\n",
       "      <td>0.052948</td>\n",
       "      <td>0.002996</td>\n",
       "      <td>0.049364</td>\n",
       "      <td>0.008805</td>\n",
       "    </tr>\n",
       "    <tr>\n",
       "      <th>std</th>\n",
       "      <td>0.294379</td>\n",
       "      <td>0.099477</td>\n",
       "      <td>0.223931</td>\n",
       "      <td>0.054650</td>\n",
       "      <td>0.216627</td>\n",
       "      <td>0.093420</td>\n",
       "    </tr>\n",
       "    <tr>\n",
       "      <th>min</th>\n",
       "      <td>0.000000</td>\n",
       "      <td>0.000000</td>\n",
       "      <td>0.000000</td>\n",
       "      <td>0.000000</td>\n",
       "      <td>0.000000</td>\n",
       "      <td>0.000000</td>\n",
       "    </tr>\n",
       "    <tr>\n",
       "      <th>25%</th>\n",
       "      <td>0.000000</td>\n",
       "      <td>0.000000</td>\n",
       "      <td>0.000000</td>\n",
       "      <td>0.000000</td>\n",
       "      <td>0.000000</td>\n",
       "      <td>0.000000</td>\n",
       "    </tr>\n",
       "    <tr>\n",
       "      <th>50%</th>\n",
       "      <td>0.000000</td>\n",
       "      <td>0.000000</td>\n",
       "      <td>0.000000</td>\n",
       "      <td>0.000000</td>\n",
       "      <td>0.000000</td>\n",
       "      <td>0.000000</td>\n",
       "    </tr>\n",
       "    <tr>\n",
       "      <th>75%</th>\n",
       "      <td>0.000000</td>\n",
       "      <td>0.000000</td>\n",
       "      <td>0.000000</td>\n",
       "      <td>0.000000</td>\n",
       "      <td>0.000000</td>\n",
       "      <td>0.000000</td>\n",
       "    </tr>\n",
       "    <tr>\n",
       "      <th>max</th>\n",
       "      <td>1.000000</td>\n",
       "      <td>1.000000</td>\n",
       "      <td>1.000000</td>\n",
       "      <td>1.000000</td>\n",
       "      <td>1.000000</td>\n",
       "      <td>1.000000</td>\n",
       "    </tr>\n",
       "  </tbody>\n",
       "</table>\n",
       "</div>"
      ],
      "text/plain": [
       "           malignant  highly_malignant           rude         threat  \\\n",
       "count  159571.000000     159571.000000  159571.000000  159571.000000   \n",
       "mean        0.095844          0.009996       0.052948       0.002996   \n",
       "std         0.294379          0.099477       0.223931       0.054650   \n",
       "min         0.000000          0.000000       0.000000       0.000000   \n",
       "25%         0.000000          0.000000       0.000000       0.000000   \n",
       "50%         0.000000          0.000000       0.000000       0.000000   \n",
       "75%         0.000000          0.000000       0.000000       0.000000   \n",
       "max         1.000000          1.000000       1.000000       1.000000   \n",
       "\n",
       "               abuse         loathe  \n",
       "count  159571.000000  159571.000000  \n",
       "mean        0.049364       0.008805  \n",
       "std         0.216627       0.093420  \n",
       "min         0.000000       0.000000  \n",
       "25%         0.000000       0.000000  \n",
       "50%         0.000000       0.000000  \n",
       "75%         0.000000       0.000000  \n",
       "max         1.000000       1.000000  "
      ]
     },
     "execution_count": 7,
     "metadata": {},
     "output_type": "execute_result"
    }
   ],
   "source": [
    "df.describe()"
   ]
  },
  {
   "cell_type": "code",
   "execution_count": 8,
   "id": "aa4ea634",
   "metadata": {},
   "outputs": [
    {
     "data": {
      "text/plain": [
       "comment_text        0\n",
       "malignant           0\n",
       "highly_malignant    0\n",
       "rude                0\n",
       "threat              0\n",
       "abuse               0\n",
       "loathe              0\n",
       "dtype: int64"
      ]
     },
     "execution_count": 8,
     "metadata": {},
     "output_type": "execute_result"
    }
   ],
   "source": [
    "# Checking for null values in the dataset\n",
    "df.isnull().sum()"
   ]
  },
  {
   "cell_type": "code",
   "execution_count": 11,
   "id": "a69f28cc",
   "metadata": {},
   "outputs": [
    {
     "data": {
      "text/plain": [
       "<AxesSubplot:>"
      ]
     },
     "execution_count": 11,
     "metadata": {},
     "output_type": "execute_result"
    },
    {
     "data": {
      "image/png": "[encoded data removed]",
      "text/plain": [
       "<Figure size 432x288 with 2 Axes>"
      ]
     },
     "metadata": {
      "needs_background": "light"
     },
     "output_type": "display_data"
    }
   ],
   "source": [
    "corr =  df.corr()\n",
    "sns.heatmap(corr)"
   ]
  },
  {
   "cell_type": "code",
   "execution_count": 21,
   "id": "04dcd104",
   "metadata": {},
   "outputs": [
    {
     "data": {
      "image/png": "[encoded data removed]",
      "text/plain": [
       "<Figure size 1080x720 with 6 Axes>"
      ]
     },
     "metadata": {
      "needs_background": "light"
     },
     "output_type": "display_data"
    }
   ],
   "source": [
    "col=['malignant','highly_malignant','loathe','rude','abuse','threat']\n",
    "\n",
    "plt.figure(figsize=[15,10])\n",
    "plotnumber = 1\n",
    "\n",
    "for i in col:\n",
    "    if plotnumber <= 6:\n",
    "        ax = plt.subplot(3,2,plotnumber)\n",
    "        sns.countplot(x=df[i])\n",
    "        plt.xlabel(i,fontsize=10)\n",
    "        plt.ylabel('Count', fontsize= 10)\n",
    "    plotnumber+=1\n",
    "plt.tight_layout()"
   ]
  },
  {
   "cell_type": "code",
   "execution_count": 8,
   "id": "70ce52b8",
   "metadata": {},
   "outputs": [
    {
     "name": "stdout",
     "output_type": "stream",
     "text": [
      "0    143346\n",
      "1      6360\n",
      "3      4209\n",
      "2      3480\n",
      "4      1760\n",
      "5       385\n",
      "6        31\n",
      "Name: Type, dtype: int64\n",
      "0    143346\n",
      "1     16225\n",
      "Name: Type, dtype: int64\n"
     ]
    }
   ],
   "source": [
    "#grouping\n",
    "cols_target = ['malignant','highly_malignant','rude','threat','abuse','loathe']\n",
    "df['Type'] =df[cols_target].sum(axis =1)\n",
    "print(df['Type'].value_counts())\n",
    "df['Type'] = df['Type'] > 0 \n",
    "df['Type'] = df['Type'].astype(int)\n",
    "print(df['Type'].value_counts())"
   ]
  },
  {
   "cell_type": "code",
   "execution_count": 10,
   "id": "e65d28bf",
   "metadata": {},
   "outputs": [
    {
     "data": {
      "image/png": "[encoded data removed]",
      "text/plain": [
       "<Figure size 432x288 with 1 Axes>"
      ]
     },
     "metadata": {
      "needs_background": "light"
     },
     "output_type": "display_data"
    }
   ],
   "source": [
    "sns.countplot(x=\"Type\" , data = df)\n",
    "plt.show()"
   ]
  },
  {
   "cell_type": "code",
   "execution_count": 9,
   "id": "066262f6",
   "metadata": {},
   "outputs": [
    {
     "name": "stderr",
     "output_type": "stream",
     "text": [
      "[nltk_data] Downloading package punkt to\n",
      "[nltk_data]     C:\\Users\\OWNER\\AppData\\Roaming\\nltk_data...\n",
      "[nltk_data]   Package punkt is already up-to-date!\n",
      "[nltk_data] Downloading package stopwords to\n",
      "[nltk_data]     C:\\Users\\OWNER\\AppData\\Roaming\\nltk_data...\n",
      "[nltk_data]   Package stopwords is already up-to-date!\n",
      "[nltk_data] Downloading package wordnet to\n",
      "[nltk_data]     C:\\Users\\OWNER\\AppData\\Roaming\\nltk_data...\n",
      "[nltk_data]   Package wordnet is already up-to-date!\n"
     ]
    },
    {
     "data": {
      "text/plain": [
       "True"
      ]
     },
     "execution_count": 9,
     "metadata": {},
     "output_type": "execute_result"
    }
   ],
   "source": [
    "import nltk\n",
    "nltk.download('punkt')\n",
    "nltk.download('stopwords')\n",
    "nltk.download('wordnet')"
   ]
  },
  {
   "cell_type": "code",
   "execution_count": 10,
   "id": "14ff3293",
   "metadata": {},
   "outputs": [],
   "source": [
    "from nltk.tokenize import word_tokenize\n",
    "from nltk.corpus import stopwords\n",
    "from nltk.stem.wordnet import WordNetLemmatizer\n",
    "from nltk.stem.porter import PorterStemmer"
   ]
  },
  {
   "cell_type": "code",
   "execution_count": 11,
   "id": "918cfc70",
   "metadata": {},
   "outputs": [],
   "source": [
    "df['tokenized_text'] = df['comment_text'].apply(word_tokenize)"
   ]
  },
  {
   "cell_type": "code",
   "execution_count": 12,
   "id": "72f5b6ef",
   "metadata": {},
   "outputs": [],
   "source": [
    "lem = WordNetLemmatizer()\n",
    "new_stopwords_list = set(stopwords.words('english') + ['u', 'ü', 'ur', '4', '2', 'im', 'dont', 'doin', 'ure','!','@','#','$','%','^','&','*','(',')'])"
   ]
  },
  {
   "cell_type": "code",
   "execution_count": 13,
   "id": "96de1791",
   "metadata": {},
   "outputs": [],
   "source": [
    "def lemmatize_text(text):\n",
    "    return [lem.lemmatize(w) for w in text if w not in new_stopwords_list]"
   ]
  },
  {
   "cell_type": "code",
   "execution_count": 14,
   "id": "7eec4409",
   "metadata": {},
   "outputs": [],
   "source": [
    "df['Lemmatized_Text'] = df['tokenized_text'].apply(lemmatize_text).apply(', '.join)"
   ]
  },
  {
   "cell_type": "code",
   "execution_count": 15,
   "id": "fdcf1b6c",
   "metadata": {},
   "outputs": [
    {
     "data": {
      "text/html": [
       "<div>\n",
       "<style scoped>\n",
       "    .dataframe tbody tr th:only-of-type {\n",
       "        vertical-align: middle;\n",
       "    }\n",
       "\n",
       "    .dataframe tbody tr th {\n",
       "        vertical-align: top;\n",
       "    }\n",
       "\n",
       "    .dataframe thead th {\n",
       "        text-align: right;\n",
       "    }\n",
       "</style>\n",
       "<table border=\"1\" class=\"dataframe\">\n",
       "  <thead>\n",
       "    <tr style=\"text-align: right;\">\n",
       "      <th></th>\n",
       "      <th>comment_text</th>\n",
       "      <th>malignant</th>\n",
       "      <th>highly_malignant</th>\n",
       "      <th>rude</th>\n",
       "      <th>threat</th>\n",
       "      <th>abuse</th>\n",
       "      <th>loathe</th>\n",
       "      <th>Type</th>\n",
       "      <th>tokenized_text</th>\n",
       "      <th>Lemmatized_Text</th>\n",
       "    </tr>\n",
       "  </thead>\n",
       "  <tbody>\n",
       "    <tr>\n",
       "      <th>0</th>\n",
       "      <td>Explanation\\nWhy the edits made under my usern...</td>\n",
       "      <td>0</td>\n",
       "      <td>0</td>\n",
       "      <td>0</td>\n",
       "      <td>0</td>\n",
       "      <td>0</td>\n",
       "      <td>0</td>\n",
       "      <td>0</td>\n",
       "      <td>[Explanation, Why, the, edits, made, under, my...</td>\n",
       "      <td>Explanation, Why, edits, made, username, Hardc...</td>\n",
       "    </tr>\n",
       "    <tr>\n",
       "      <th>1</th>\n",
       "      <td>D'aww! He matches this background colour I'm s...</td>\n",
       "      <td>0</td>\n",
       "      <td>0</td>\n",
       "      <td>0</td>\n",
       "      <td>0</td>\n",
       "      <td>0</td>\n",
       "      <td>0</td>\n",
       "      <td>0</td>\n",
       "      <td>[D'aww, !, He, matches, this, background, colo...</td>\n",
       "      <td>D'aww, He, match, background, colour, I, 'm, s...</td>\n",
       "    </tr>\n",
       "    <tr>\n",
       "      <th>2</th>\n",
       "      <td>Hey man, I'm really not trying to edit war. It...</td>\n",
       "      <td>0</td>\n",
       "      <td>0</td>\n",
       "      <td>0</td>\n",
       "      <td>0</td>\n",
       "      <td>0</td>\n",
       "      <td>0</td>\n",
       "      <td>0</td>\n",
       "      <td>[Hey, man, ,, I, 'm, really, not, trying, to, ...</td>\n",
       "      <td>Hey, man, ,, I, 'm, really, trying, edit, war,...</td>\n",
       "    </tr>\n",
       "    <tr>\n",
       "      <th>3</th>\n",
       "      <td>\"\\nMore\\nI can't make any real suggestions on ...</td>\n",
       "      <td>0</td>\n",
       "      <td>0</td>\n",
       "      <td>0</td>\n",
       "      <td>0</td>\n",
       "      <td>0</td>\n",
       "      <td>0</td>\n",
       "      <td>0</td>\n",
       "      <td>[``, More, I, ca, n't, make, any, real, sugges...</td>\n",
       "      <td>``, More, I, ca, n't, make, real, suggestion, ...</td>\n",
       "    </tr>\n",
       "    <tr>\n",
       "      <th>4</th>\n",
       "      <td>You, sir, are my hero. Any chance you remember...</td>\n",
       "      <td>0</td>\n",
       "      <td>0</td>\n",
       "      <td>0</td>\n",
       "      <td>0</td>\n",
       "      <td>0</td>\n",
       "      <td>0</td>\n",
       "      <td>0</td>\n",
       "      <td>[You, ,, sir, ,, are, my, hero, ., Any, chance...</td>\n",
       "      <td>You, ,, sir, ,, hero, ., Any, chance, remember...</td>\n",
       "    </tr>\n",
       "  </tbody>\n",
       "</table>\n",
       "</div>"
      ],
      "text/plain": [
       "                                        comment_text  malignant  \\\n",
       "0  Explanation\\nWhy the edits made under my usern...          0   \n",
       "1  D'aww! He matches this background colour I'm s...          0   \n",
       "2  Hey man, I'm really not trying to edit war. It...          0   \n",
       "3  \"\\nMore\\nI can't make any real suggestions on ...          0   \n",
       "4  You, sir, are my hero. Any chance you remember...          0   \n",
       "\n",
       "   highly_malignant  rude  threat  abuse  loathe  Type  \\\n",
       "0                 0     0       0      0       0     0   \n",
       "1                 0     0       0      0       0     0   \n",
       "2                 0     0       0      0       0     0   \n",
       "3                 0     0       0      0       0     0   \n",
       "4                 0     0       0      0       0     0   \n",
       "\n",
       "                                      tokenized_text  \\\n",
       "0  [Explanation, Why, the, edits, made, under, my...   \n",
       "1  [D'aww, !, He, matches, this, background, colo...   \n",
       "2  [Hey, man, ,, I, 'm, really, not, trying, to, ...   \n",
       "3  [``, More, I, ca, n't, make, any, real, sugges...   \n",
       "4  [You, ,, sir, ,, are, my, hero, ., Any, chance...   \n",
       "\n",
       "                                     Lemmatized_Text  \n",
       "0  Explanation, Why, edits, made, username, Hardc...  \n",
       "1  D'aww, He, match, background, colour, I, 'm, s...  \n",
       "2  Hey, man, ,, I, 'm, really, trying, edit, war,...  \n",
       "3  ``, More, I, ca, n't, make, real, suggestion, ...  \n",
       "4  You, ,, sir, ,, hero, ., Any, chance, remember...  "
      ]
     },
     "execution_count": 15,
     "metadata": {},
     "output_type": "execute_result"
    }
   ],
   "source": [
    "df.head()"
   ]
  },
  {
   "cell_type": "code",
   "execution_count": 17,
   "id": "091a13ca",
   "metadata": {},
   "outputs": [
    {
     "data": {
      "text/html": [
       "<div>\n",
       "<style scoped>\n",
       "    .dataframe tbody tr th:only-of-type {\n",
       "        vertical-align: middle;\n",
       "    }\n",
       "\n",
       "    .dataframe tbody tr th {\n",
       "        vertical-align: top;\n",
       "    }\n",
       "\n",
       "    .dataframe thead th {\n",
       "        text-align: right;\n",
       "    }\n",
       "</style>\n",
       "<table border=\"1\" class=\"dataframe\">\n",
       "  <thead>\n",
       "    <tr style=\"text-align: right;\">\n",
       "      <th></th>\n",
       "      <th>comment_text</th>\n",
       "      <th>malignant</th>\n",
       "      <th>highly_malignant</th>\n",
       "      <th>rude</th>\n",
       "      <th>threat</th>\n",
       "      <th>abuse</th>\n",
       "      <th>loathe</th>\n",
       "      <th>Type</th>\n",
       "      <th>tokenized_text</th>\n",
       "      <th>Lemmatized_Text</th>\n",
       "    </tr>\n",
       "  </thead>\n",
       "  <tbody>\n",
       "    <tr>\n",
       "      <th>0</th>\n",
       "      <td>Explanation\\nWhy the edits made under my usern...</td>\n",
       "      <td>0</td>\n",
       "      <td>0</td>\n",
       "      <td>0</td>\n",
       "      <td>0</td>\n",
       "      <td>0</td>\n",
       "      <td>0</td>\n",
       "      <td>0</td>\n",
       "      <td>[Explanation, Why, the, edits, made, under, my...</td>\n",
       "      <td>explanation why edits made username hardcore m...</td>\n",
       "    </tr>\n",
       "    <tr>\n",
       "      <th>1</th>\n",
       "      <td>D'aww! He matches this background colour I'm s...</td>\n",
       "      <td>0</td>\n",
       "      <td>0</td>\n",
       "      <td>0</td>\n",
       "      <td>0</td>\n",
       "      <td>0</td>\n",
       "      <td>0</td>\n",
       "      <td>0</td>\n",
       "      <td>[D'aww, !, He, matches, this, background, colo...</td>\n",
       "      <td>daww he match background colour i m seemingly ...</td>\n",
       "    </tr>\n",
       "    <tr>\n",
       "      <th>2</th>\n",
       "      <td>Hey man, I'm really not trying to edit war. It...</td>\n",
       "      <td>0</td>\n",
       "      <td>0</td>\n",
       "      <td>0</td>\n",
       "      <td>0</td>\n",
       "      <td>0</td>\n",
       "      <td>0</td>\n",
       "      <td>0</td>\n",
       "      <td>[Hey, man, ,, I, 'm, really, not, trying, to, ...</td>\n",
       "      <td>hey man  i m really trying edit war  it s guy ...</td>\n",
       "    </tr>\n",
       "    <tr>\n",
       "      <th>3</th>\n",
       "      <td>\"\\nMore\\nI can't make any real suggestions on ...</td>\n",
       "      <td>0</td>\n",
       "      <td>0</td>\n",
       "      <td>0</td>\n",
       "      <td>0</td>\n",
       "      <td>0</td>\n",
       "      <td>0</td>\n",
       "      <td>0</td>\n",
       "      <td>[``, More, I, ca, n't, make, any, real, sugges...</td>\n",
       "      <td>more i ca nt make real suggestion improvement...</td>\n",
       "    </tr>\n",
       "    <tr>\n",
       "      <th>4</th>\n",
       "      <td>You, sir, are my hero. Any chance you remember...</td>\n",
       "      <td>0</td>\n",
       "      <td>0</td>\n",
       "      <td>0</td>\n",
       "      <td>0</td>\n",
       "      <td>0</td>\n",
       "      <td>0</td>\n",
       "      <td>0</td>\n",
       "      <td>[You, ,, sir, ,, are, my, hero, ., Any, chance...</td>\n",
       "      <td>you  sir  hero  any chance remember page s</td>\n",
       "    </tr>\n",
       "  </tbody>\n",
       "</table>\n",
       "</div>"
      ],
      "text/plain": [
       "                                        comment_text  malignant  \\\n",
       "0  Explanation\\nWhy the edits made under my usern...          0   \n",
       "1  D'aww! He matches this background colour I'm s...          0   \n",
       "2  Hey man, I'm really not trying to edit war. It...          0   \n",
       "3  \"\\nMore\\nI can't make any real suggestions on ...          0   \n",
       "4  You, sir, are my hero. Any chance you remember...          0   \n",
       "\n",
       "   highly_malignant  rude  threat  abuse  loathe  Type  \\\n",
       "0                 0     0       0      0       0     0   \n",
       "1                 0     0       0      0       0     0   \n",
       "2                 0     0       0      0       0     0   \n",
       "3                 0     0       0      0       0     0   \n",
       "4                 0     0       0      0       0     0   \n",
       "\n",
       "                                      tokenized_text  \\\n",
       "0  [Explanation, Why, the, edits, made, under, my...   \n",
       "1  [D'aww, !, He, matches, this, background, colo...   \n",
       "2  [Hey, man, ,, I, 'm, really, not, trying, to, ...   \n",
       "3  [``, More, I, ca, n't, make, any, real, sugges...   \n",
       "4  [You, ,, sir, ,, are, my, hero, ., Any, chance...   \n",
       "\n",
       "                                     Lemmatized_Text  \n",
       "0  explanation why edits made username hardcore m...  \n",
       "1  daww he match background colour i m seemingly ...  \n",
       "2  hey man  i m really trying edit war  it s guy ...  \n",
       "3   more i ca nt make real suggestion improvement...  \n",
       "4        you  sir  hero  any chance remember page s   "
      ]
     },
     "execution_count": 17,
     "metadata": {},
     "output_type": "execute_result"
    }
   ],
   "source": [
    "import re\n",
    "df['Lemmatized_Text'] = df['Lemmatized_Text'].str.lower()\n",
    "df['Lemmatized_Text'] = df['Lemmatized_Text'].apply(lambda x: re.sub(r\"(@[A-Za-z0-9]+)|([^0-9A-Za-z \\t])|(\\w+:\\/\\/\\S+)|^rt|http.+?\", \"\", x))\n",
    "df['Lemmatized_Text'] = df['Lemmatized_Text'].apply(lambda x: re.sub(r\"\\d+\", \"\", x))\n",
    "df.head()"
   ]
  },
  {
   "cell_type": "code",
   "execution_count": 19,
   "id": "a8c2d85e",
   "metadata": {},
   "outputs": [],
   "source": [
    "from sklearn.feature_extraction.text import TfidfVectorizer"
   ]
  },
  {
   "cell_type": "code",
   "execution_count": 20,
   "id": "f9ed0d65",
   "metadata": {},
   "outputs": [
    {
     "data": {
      "text/plain": [
       "(159571, 100000)"
      ]
     },
     "execution_count": 20,
     "metadata": {},
     "output_type": "execute_result"
    }
   ],
   "source": [
    "cv = TfidfVectorizer(stop_words='english',\n",
    "    sublinear_tf=True,\n",
    "    strip_accents='unicode',\n",
    "    analyzer='word',\n",
    "    token_pattern=r'\\w{2,}',  #vectorize 2-character words or more\n",
    "    ngram_range=(1, 1),\n",
    "    max_features=100000)\n",
    "\n",
    "# Use the content column instead of our single text variable\n",
    "x = cv.fit_transform(df['Lemmatized_Text'])\n",
    "x.shape"
   ]
  },
  {
   "cell_type": "code",
   "execution_count": 21,
   "id": "c65d7834",
   "metadata": {},
   "outputs": [],
   "source": [
    "y = df['Type']"
   ]
  },
  {
   "cell_type": "code",
   "execution_count": 22,
   "id": "ce71556b",
   "metadata": {},
   "outputs": [
    {
     "data": {
      "text/plain": [
       "(159571, 100000)"
      ]
     },
     "execution_count": 22,
     "metadata": {},
     "output_type": "execute_result"
    }
   ],
   "source": [
    "x.shape"
   ]
  },
  {
   "cell_type": "code",
   "execution_count": 23,
   "id": "985048cd",
   "metadata": {},
   "outputs": [],
   "source": [
    "from sklearn.model_selection import train_test_split\n",
    "x_train, x_test, y_train, y_test = train_test_split(x,y,test_size = 0.25, random_state = 100)"
   ]
  },
  {
   "cell_type": "markdown",
   "id": "e8dabf56",
   "metadata": {},
   "source": [
    "**Naive bayes Classifier**"
   ]
  },
  {
   "cell_type": "code",
   "execution_count": 25,
   "id": "de0e8a34",
   "metadata": {},
   "outputs": [],
   "source": [
    "#Training model using Naive bayes Classifier\n",
    "\n",
    "from sklearn.naive_bayes import MultinomialNB\n",
    "mnb = MultinomialNB()\n",
    "nb_model = mnb.fit(x_train,y_train)\n",
    "nb_ypred = nb_model.predict(x_test)"
   ]
  },
  {
   "cell_type": "code",
   "execution_count": 26,
   "id": "0b256335",
   "metadata": {},
   "outputs": [
    {
     "name": "stdout",
     "output_type": "stream",
     "text": [
      "[[35805    17]\n",
      " [ 2975  1096]]\n"
     ]
    }
   ],
   "source": [
    "#Confusion Matrix for Naive Byes\n",
    "from sklearn.metrics import confusion_matrix\n",
    "print(confusion_matrix(y_test,nb_ypred))"
   ]
  },
  {
   "cell_type": "code",
   "execution_count": 27,
   "id": "1188fc62",
   "metadata": {},
   "outputs": [],
   "source": [
    "from sklearn.metrics import accuracy_score\n",
    "from sklearn.metrics import confusion_matrix, classification_report\n",
    "from sklearn.metrics import roc_curve, roc_auc_score, plot_roc_curve"
   ]
  },
  {
   "cell_type": "code",
   "execution_count": 28,
   "id": "9791128b",
   "metadata": {},
   "outputs": [
    {
     "name": "stdout",
     "output_type": "stream",
     "text": [
      "---Accuracy Score for Naive Byes---\n",
      "\n",
      " 0.9249993733236408\n",
      "\n",
      "---Classification Report for Naive Byes---\n",
      "\n",
      "               precision    recall  f1-score   support\n",
      "\n",
      "           0       0.92      1.00      0.96     35822\n",
      "           1       0.98      0.27      0.42      4071\n",
      "\n",
      "    accuracy                           0.92     39893\n",
      "   macro avg       0.95      0.63      0.69     39893\n",
      "weighted avg       0.93      0.92      0.91     39893\n",
      "\n",
      "\n",
      "---ROC AUC SCORE---\n",
      "\n",
      " 0.63437337642091\n"
     ]
    }
   ],
   "source": [
    "print('---Accuracy Score for Naive Byes---\\n\\n',accuracy_score(y_test,nb_ypred))\n",
    "print('\\n---Classification Report for Naive Byes---\\n\\n',classification_report(y_test,nb_ypred))\n",
    "print('\\n---ROC AUC SCORE---\\n\\n',roc_auc_score(y_test,nb_ypred))"
   ]
  },
  {
   "cell_type": "code",
   "execution_count": 35,
   "id": "e5d21e22",
   "metadata": {},
   "outputs": [],
   "source": [
    "#Hyperparameter Tuning"
   ]
  },
  {
   "cell_type": "code",
   "execution_count": 38,
   "id": "199b0b66",
   "metadata": {},
   "outputs": [],
   "source": [
    "from sklearn.model_selection import GridSearchCV\n",
    "import numpy as np"
   ]
  },
  {
   "cell_type": "code",
   "execution_count": 44,
   "id": "0396cb3e",
   "metadata": {},
   "outputs": [],
   "source": [
    "params = {'alpha': list(np.arange(0.1,2,0.2))}"
   ]
  },
  {
   "cell_type": "code",
   "execution_count": 61,
   "id": "6ba71da8",
   "metadata": {},
   "outputs": [],
   "source": [
    "mnb_grid = GridSearchCV(mnb, param_grid= params, cv = 2, n_jobs=-1)"
   ]
  },
  {
   "cell_type": "code",
   "execution_count": 63,
   "id": "0592113c",
   "metadata": {},
   "outputs": [
    {
     "name": "stdout",
     "output_type": "stream",
     "text": [
      "Best Estimators == > \n",
      " {'alpha': 0.1}\n"
     ]
    }
   ],
   "source": [
    "mnb_grid.fit(x_train,y_train)\n",
    "print('Best Estimators == > \\n', mnb_grid.best_params_)"
   ]
  },
  {
   "cell_type": "code",
   "execution_count": 64,
   "id": "73ec2211",
   "metadata": {},
   "outputs": [],
   "source": [
    "mnb_clf= mnb_grid.best_estimator_\n",
    "mnb_grid = mnb_clf.fit(x_train, y_train)"
   ]
  },
  {
   "cell_type": "code",
   "execution_count": 65,
   "id": "091d9952",
   "metadata": {},
   "outputs": [],
   "source": [
    "mnb_y_pred =  mnb_grid.predict(x_test)"
   ]
  },
  {
   "cell_type": "code",
   "execution_count": 66,
   "id": "cdf11bd7",
   "metadata": {},
   "outputs": [
    {
     "name": "stdout",
     "output_type": "stream",
     "text": [
      "---Confusion Matrix for Naive Byes---\n",
      "\n",
      " [[35455   367]\n",
      " [ 1872  2199]]\n",
      "---Accuracy Score for Naive Byes---\n",
      "\n",
      " 0.9438748652645828\n",
      "\n",
      "---Classification Report for Naive Byes---\n",
      "\n",
      "               precision    recall  f1-score   support\n",
      "\n",
      "           0       0.95      0.99      0.97     35822\n",
      "           1       0.86      0.54      0.66      4071\n",
      "\n",
      "    accuracy                           0.94     39893\n",
      "   macro avg       0.90      0.76      0.82     39893\n",
      "weighted avg       0.94      0.94      0.94     39893\n",
      "\n",
      "\n",
      "---ROC AUC SCORE---\n",
      "\n",
      " 0.7649585107763035\n"
     ]
    }
   ],
   "source": [
    "print('---Confusion Matrix for Naive Byes---\\n\\n', confusion_matrix(y_test,mnb_y_pred))\n",
    "print('---Accuracy Score for Naive Byes---\\n\\n',accuracy_score(y_test,mnb_y_pred))\n",
    "print('\\n---Classification Report for Naive Byes---\\n\\n',classification_report(y_test,mnb_y_pred))\n",
    "print('\\n---ROC AUC SCORE---\\n\\n',roc_auc_score(y_test,mnb_y_pred))"
   ]
  },
  {
   "cell_type": "code",
   "execution_count": 58,
   "id": "56eb2e26",
   "metadata": {},
   "outputs": [
    {
     "data": {
      "text/plain": [
       "0.9447080014165739"
      ]
     },
     "execution_count": 58,
     "metadata": {},
     "output_type": "execute_result"
    }
   ],
   "source": [
    "#Cross Validating.\n",
    "\n",
    "from sklearn.model_selection import cross_val_score\n",
    "\n",
    "cvs_mnb = cross_val_score(mnb_grid,x,y,cv=4)\n",
    "\n",
    "cvs_mnb.mean()"
   ]
  },
  {
   "cell_type": "code",
   "execution_count": 67,
   "id": "e951b6e0",
   "metadata": {},
   "outputs": [
    {
     "data": {
      "image/png": "[encoded data removed]",
      "text/plain": [
       "<Figure size 432x288 with 1 Axes>"
      ]
     },
     "metadata": {
      "needs_background": "light"
     },
     "output_type": "display_data"
    }
   ],
   "source": [
    "#Plotting ROC_AUC Curve for the model\n",
    "plot_roc_curve(mnb_grid,x_test,y_test)\n",
    "plt.title('Roc_Auc_Curve', fontsize = 10)\n",
    "plt.tight_layout()"
   ]
  },
  {
   "cell_type": "markdown",
   "id": "2a559e00",
   "metadata": {},
   "source": [
    "**Passive Aggressive Classifier Algorithm**"
   ]
  },
  {
   "cell_type": "code",
   "execution_count": 30,
   "id": "68a21a26",
   "metadata": {},
   "outputs": [],
   "source": [
    "from sklearn.linear_model import PassiveAggressiveClassifier\n",
    "pac = PassiveAggressiveClassifier()"
   ]
  },
  {
   "cell_type": "code",
   "execution_count": 31,
   "id": "c94232d3",
   "metadata": {},
   "outputs": [],
   "source": [
    "pac_model = pac.fit(x_train,y_train)\n",
    "pac_ypred = pac_model.predict(x_test)"
   ]
  },
  {
   "cell_type": "code",
   "execution_count": 34,
   "id": "0c3e9111",
   "metadata": {},
   "outputs": [
    {
     "name": "stdout",
     "output_type": "stream",
     "text": [
      "--Confusion Matrix for Passive Aggressive Classifier--\n",
      "\n",
      " [[34986   836]\n",
      " [ 1200  2871]]\n",
      "\n",
      "---Accuracy Score for Passive Aggressive Classifier---\n",
      "\n",
      " 0.9489634773017823\n",
      "\n",
      "---Classification Report for Passive Aggressive Classifier---\n",
      "\n",
      "               precision    recall  f1-score   support\n",
      "\n",
      "           0       0.97      0.98      0.97     35822\n",
      "           1       0.77      0.71      0.74      4071\n",
      "\n",
      "    accuracy                           0.95     39893\n",
      "   macro avg       0.87      0.84      0.85     39893\n",
      "weighted avg       0.95      0.95      0.95     39893\n",
      "\n",
      "\n",
      "---ROC AUC SCORE for Passive Aggressive Classifier---\n",
      "\n",
      " 0.840947257970477\n"
     ]
    }
   ],
   "source": [
    "print('--Confusion Matrix for Passive Aggressive Classifier--\\n\\n',confusion_matrix(y_test,pac_ypred))\n",
    "print('\\n---Accuracy Score for Passive Aggressive Classifier---\\n\\n',accuracy_score(y_test,pac_ypred))\n",
    "print('\\n---Classification Report for Passive Aggressive Classifier---\\n\\n',classification_report(y_test,pac_ypred))\n",
    "print('\\n---ROC AUC SCORE for Passive Aggressive Classifier---\\n\\n',roc_auc_score(y_test,pac_ypred))"
   ]
  },
  {
   "cell_type": "code",
   "execution_count": 56,
   "id": "8ab43396",
   "metadata": {},
   "outputs": [],
   "source": [
    "#HyperParameter Tuning"
   ]
  },
  {
   "cell_type": "code",
   "execution_count": 68,
   "id": "3304c200",
   "metadata": {},
   "outputs": [],
   "source": [
    "pac_params = {'C': list(np.arange(0.1,2,0.2))}"
   ]
  },
  {
   "cell_type": "code",
   "execution_count": 69,
   "id": "2f276c19",
   "metadata": {},
   "outputs": [],
   "source": [
    "pac_grid = GridSearchCV(pac, param_grid= pac_params, cv = 2, n_jobs=-1)"
   ]
  },
  {
   "cell_type": "code",
   "execution_count": 70,
   "id": "0b9e6e74",
   "metadata": {},
   "outputs": [
    {
     "name": "stdout",
     "output_type": "stream",
     "text": [
      "Best Estimators == > \n",
      " {'C': 0.1}\n"
     ]
    }
   ],
   "source": [
    "pac_grid.fit(x_train,y_train)\n",
    "print('Best Estimators == > \\n', pac_grid.best_params_)"
   ]
  },
  {
   "cell_type": "code",
   "execution_count": 72,
   "id": "f10e166e",
   "metadata": {},
   "outputs": [],
   "source": [
    "pac_clf= pac_grid.best_estimator_\n",
    "pac_grid_bp=pac_clf.fit(x_train, y_train)\n",
    "pacgrid_y_pred =  pac_grid_bp.predict(x_test)"
   ]
  },
  {
   "cell_type": "code",
   "execution_count": 73,
   "id": "3dbc7594",
   "metadata": {},
   "outputs": [
    {
     "name": "stdout",
     "output_type": "stream",
     "text": [
      "--Confusion Matrix for Passive Aggressive Classifier--\n",
      "\n",
      " [[35317   505]\n",
      " [ 1163  2908]]\n",
      "\n",
      "---Accuracy Score for Passive Aggressive Classifier---\n",
      "\n",
      " 0.9581881533101045\n",
      "\n",
      "---Classification Report for Passive Aggressive Classifier---\n",
      "\n",
      "               precision    recall  f1-score   support\n",
      "\n",
      "           0       0.97      0.99      0.98     35822\n",
      "           1       0.85      0.71      0.78      4071\n",
      "\n",
      "    accuracy                           0.96     39893\n",
      "   macro avg       0.91      0.85      0.88     39893\n",
      "weighted avg       0.96      0.96      0.96     39893\n",
      "\n",
      "\n",
      "---ROC AUC SCORE for Passive Aggressive Classifier---\n",
      "\n",
      " 0.8501116618522702\n"
     ]
    }
   ],
   "source": [
    "print('--Confusion Matrix for Passive Aggressive Classifier--\\n\\n',confusion_matrix(y_test,pacgrid_y_pred))\n",
    "print('\\n---Accuracy Score for Passive Aggressive Classifier---\\n\\n',accuracy_score(y_test,pacgrid_y_pred))\n",
    "print('\\n---Classification Report for Passive Aggressive Classifier---\\n\\n',classification_report(y_test,pacgrid_y_pred))\n",
    "print('\\n---ROC AUC SCORE for Passive Aggressive Classifier---\\n\\n',roc_auc_score(y_test,pacgrid_y_pred))"
   ]
  },
  {
   "cell_type": "code",
   "execution_count": 74,
   "id": "bd898cf3",
   "metadata": {},
   "outputs": [
    {
     "data": {
      "text/plain": [
       "0.9589273747236757"
      ]
     },
     "execution_count": 74,
     "metadata": {},
     "output_type": "execute_result"
    }
   ],
   "source": [
    "#Cross Validating.\n",
    "\n",
    "from sklearn.model_selection import cross_val_score\n",
    "\n",
    "cvs_mnb = cross_val_score(pac_grid_bp,x,y,cv=4)\n",
    "\n",
    "cvs_mnb.mean()"
   ]
  },
  {
   "cell_type": "code",
   "execution_count": 75,
   "id": "cb8d14d7",
   "metadata": {},
   "outputs": [
    {
     "data": {
      "image/png": "[encoded data removed]",
      "text/plain": [
       "<Figure size 432x288 with 1 Axes>"
      ]
     },
     "metadata": {
      "needs_background": "light"
     },
     "output_type": "display_data"
    }
   ],
   "source": [
    "#Plotting ROC_AUC Curve for the model\n",
    "plot_roc_curve(pac_grid_bp,x_test,y_test)\n",
    "plt.title('Roc_Auc_Curve', fontsize = 10)\n",
    "plt.tight_layout()"
   ]
  },
  {
   "cell_type": "markdown",
   "id": "6abdb13a",
   "metadata": {},
   "source": [
    "### Other Models"
   ]
  },
  {
   "cell_type": "code",
   "execution_count": 78,
   "id": "1af06822",
   "metadata": {},
   "outputs": [],
   "source": [
    "from sklearn.linear_model import LogisticRegression\n",
    "from sklearn.tree import DecisionTreeClassifier\n",
    "from sklearn.ensemble import RandomForestClassifier\n",
    "from xgboost import XGBClassifier"
   ]
  },
  {
   "cell_type": "code",
   "execution_count": 79,
   "id": "773a54df",
   "metadata": {},
   "outputs": [],
   "source": [
    "lr = LogisticRegression()\n",
    "dt = DecisionTreeClassifier()\n",
    "rf = RandomForestClassifier()\n",
    "xgb = XGBClassifier()"
   ]
  },
  {
   "cell_type": "code",
   "execution_count": 82,
   "id": "34e34baa",
   "metadata": {},
   "outputs": [
    {
     "name": "stdout",
     "output_type": "stream",
     "text": [
      "[22:37:55] WARNING: ..\\src\\learner.cc:1061: Starting in XGBoost 1.3.0, the default evaluation metric used with the objective 'binary:logistic' was changed from 'error' to 'logloss'. Explicitly set eval_metric if you'd like to restore the old behavior.\n",
      "All Models Trained\n"
     ]
    }
   ],
   "source": [
    "#training with the all of them\n",
    "\n",
    "lr.fit(x_train,y_train)\n",
    "dt.fit(x_train,y_train)\n",
    "rf.fit(x_train,y_train)\n",
    "xgb.fit(x_train,y_train)\n",
    "\n",
    "print(\"All Models Trained\")"
   ]
  },
  {
   "cell_type": "code",
   "execution_count": 83,
   "id": "b8d37996",
   "metadata": {},
   "outputs": [
    {
     "name": "stdout",
     "output_type": "stream",
     "text": [
      "All scores Captured\n"
     ]
    }
   ],
   "source": [
    "lr.score(x_test,y_test)\n",
    "dt.score(x_test,y_test)\n",
    "rf.score(x_test,y_test)\n",
    "xgb.score(x_test,y_test)\n",
    "\n",
    "print(\"All scores Captured\")"
   ]
  },
  {
   "cell_type": "code",
   "execution_count": 91,
   "id": "1d3f8a00",
   "metadata": {},
   "outputs": [
    {
     "name": "stdout",
     "output_type": "stream",
     "text": [
      "Logistic Regression = 0.9536510164690547\n",
      "Decision Tree = 0.9406662823051664\n",
      "Random Forest = 0.9532248765447572\n",
      "Xtreme Gradient Boost = 0.9517459203369012\n"
     ]
    }
   ],
   "source": [
    "#Accuracy score\n",
    "print('Logistic Regression =', accuracy_score(y_test,lr.predict(x_test)))\n",
    "print('Decision Tree =', accuracy_score(y_test,dt.predict(x_test)))\n",
    "print('Random Forest =', accuracy_score(y_test,rf.predict(x_test)))\n",
    "print('Xtreme Gradient Boost =', accuracy_score(y_test,xgb.predict(x_test)))"
   ]
  },
  {
   "cell_type": "code",
   "execution_count": 92,
   "id": "c5b96184",
   "metadata": {},
   "outputs": [
    {
     "name": "stdout",
     "output_type": "stream",
     "text": [
      "Logistic Regression = 0.7919567774454441\n",
      "Decision Tree = 0.829795469509501\n",
      "Random Forest = 0.7979246295457352\n",
      "Xtreme Gradient Boost = 0.7871946673583149\n"
     ]
    }
   ],
   "source": [
    "#Lets check the roc_auc_score of every model\n",
    "\n",
    "print('Logistic Regression =', roc_auc_score(y_test,lr.predict(x_test)))\n",
    "print('Decision Tree =', roc_auc_score(y_test,dt.predict(x_test)))\n",
    "print('Random Forest =', roc_auc_score(y_test,rf.predict(x_test)))\n",
    "print('Xtreme Gradient Boost =', roc_auc_score(y_test,xgb.predict(x_test)))"
   ]
  },
  {
   "cell_type": "code",
   "execution_count": 93,
   "id": "e711f87c",
   "metadata": {},
   "outputs": [
    {
     "name": "stdout",
     "output_type": "stream",
     "text": [
      "Classification report of Logistic Regression \n",
      "               precision    recall  f1-score   support\n",
      "\n",
      "           0       0.96      1.00      0.97     35822\n",
      "           1       0.93      0.59      0.72      4071\n",
      "\n",
      "    accuracy                           0.95     39893\n",
      "   macro avg       0.94      0.79      0.85     39893\n",
      "weighted avg       0.95      0.95      0.95     39893\n",
      "\n",
      "Classification report of Decision Tree \n",
      "               precision    recall  f1-score   support\n",
      "\n",
      "           0       0.96      0.97      0.97     35822\n",
      "           1       0.72      0.69      0.70      4071\n",
      "\n",
      "    accuracy                           0.94     39893\n",
      "   macro avg       0.84      0.83      0.84     39893\n",
      "weighted avg       0.94      0.94      0.94     39893\n",
      "\n",
      "Classification report of Random Forest \n",
      "               precision    recall  f1-score   support\n",
      "\n",
      "           0       0.96      0.99      0.97     35822\n",
      "           1       0.91      0.60      0.72      4071\n",
      "\n",
      "    accuracy                           0.95     39893\n",
      "   macro avg       0.93      0.80      0.85     39893\n",
      "weighted avg       0.95      0.95      0.95     39893\n",
      "\n",
      "Classification report of Xtreme Gradient Boost \n",
      "               precision    recall  f1-score   support\n",
      "\n",
      "           0       0.95      0.99      0.97     35822\n",
      "           1       0.92      0.58      0.71      4071\n",
      "\n",
      "    accuracy                           0.95     39893\n",
      "   macro avg       0.94      0.79      0.84     39893\n",
      "weighted avg       0.95      0.95      0.95     39893\n",
      "\n"
     ]
    }
   ],
   "source": [
    "#Classification Report\n",
    "\n",
    "print('Classification report of Logistic Regression \\n', classification_report(y_test,lr.predict(x_test)))\n",
    "print('Classification report of Decision Tree \\n', classification_report(y_test,dt.predict(x_test)))\n",
    "print('Classification report of Random Forest \\n', classification_report(y_test,rf.predict(x_test)))\n",
    "print('Classification report of Xtreme Gradient Boost \\n', classification_report(y_test,xgb.predict(x_test)))"
   ]
  },
  {
   "cell_type": "code",
   "execution_count": 94,
   "id": "49fdf5a2",
   "metadata": {},
   "outputs": [
    {
     "name": "stdout",
     "output_type": "stream",
     "text": [
      "Confusion Matrix of Logistic Regression\n",
      " [[35647   175]\n",
      " [ 1674  2397]]\n",
      "Confusion Matrix of Decision Tree\n",
      " [[34715  1107]\n",
      " [ 1260  2811]]\n",
      "Confusion Matrix of Random Forest \n",
      " [[35573   249]\n",
      " [ 1617  2454]]\n",
      "Confusion Matrix of Xtreme Gradient Boost \n",
      " [[35605   217]\n",
      " [ 1708  2363]]\n"
     ]
    }
   ],
   "source": [
    "print('Confusion Matrix of Logistic Regression\\n', confusion_matrix(y_test,lr.predict(x_test)))\n",
    "print('Confusion Matrix of Decision Tree\\n', confusion_matrix(y_test,dt.predict(x_test)))\n",
    "print('Confusion Matrix of Random Forest \\n', confusion_matrix(y_test,rf.predict(x_test)))\n",
    "print('Confusion Matrix of Xtreme Gradient Boost \\n', confusion_matrix(y_test,xgb.predict(x_test)))"
   ]
  },
  {
   "cell_type": "code",
   "execution_count": 84,
   "id": "5e979e6f",
   "metadata": {},
   "outputs": [
    {
     "data": {
      "image/png": "[encoded data removed]",
      "text/plain": [
       "<Figure size 432x288 with 1 Axes>"
      ]
     },
     "metadata": {
      "needs_background": "light"
     },
     "output_type": "display_data"
    }
   ],
   "source": [
    "curve = plot_roc_curve(lr,x_test,y_test)\n",
    "\n",
    "plot_roc_curve(dt,x_test,y_test,ax=curve.ax_)\n",
    "\n",
    "plot_roc_curve(rf,x_test,y_test,ax=curve.ax_)\n",
    "\n",
    "plot_roc_curve(xgb,x_test,y_test,ax=curve.ax_)\n",
    "\n",
    "plot_roc_curve(mnb,x_test,y_test,ax=curve.ax_)\n",
    "\n",
    "plot_roc_curve(pac,x_test,y_test,ax=curve.ax_)\n",
    "\n",
    "plt.title('Roc_Auc_Curve', fontsize = 10)\n",
    "\n",
    "plt.tight_layout()"
   ]
  },
  {
   "cell_type": "code",
   "execution_count": null,
   "id": "0ddbaaee",
   "metadata": {},
   "outputs": [],
   "source": [
    "# After checking all the parameters we can see that LogisticRegression is giving us the best predictions for this dataset."
   ]
  },
  {
   "cell_type": "markdown",
   "id": "3ef9ea41",
   "metadata": {},
   "source": [
    "**Hyperparameter Tuning**"
   ]
  },
  {
   "cell_type": "code",
   "execution_count": null,
   "id": "71a5eb27",
   "metadata": {},
   "outputs": [],
   "source": [
    "#Logistic Regression"
   ]
  },
  {
   "cell_type": "code",
   "execution_count": 100,
   "id": "cb02829c",
   "metadata": {},
   "outputs": [],
   "source": [
    "params = {'penalty': ['l1', 'l2', 'elasticnet', 'none'],\n",
    "         'C':[1.0,2.0],\n",
    "         'solver' : ['newton-cg', 'lbfgs', 'liblinear', 'sag', 'saga'],\n",
    "          'max_iter':[100,110],\n",
    "         }"
   ]
  },
  {
   "cell_type": "code",
   "execution_count": 101,
   "id": "f4bdb217",
   "metadata": {},
   "outputs": [],
   "source": [
    "grid = GridSearchCV(lr, param_grid= params, cv = 2, n_jobs=-1)"
   ]
  },
  {
   "cell_type": "code",
   "execution_count": 102,
   "id": "44f53491",
   "metadata": {},
   "outputs": [
    {
     "data": {
      "text/plain": [
       "GridSearchCV(cv=2, estimator=LogisticRegression(), n_jobs=-1,\n",
       "             param_grid={'C': [1.0, 2.0], 'max_iter': [100, 110],\n",
       "                         'penalty': ['l1', 'l2', 'elasticnet', 'none'],\n",
       "                         'solver': ['newton-cg', 'lbfgs', 'liblinear', 'sag',\n",
       "                                    'saga']})"
      ]
     },
     "execution_count": 102,
     "metadata": {},
     "output_type": "execute_result"
    }
   ],
   "source": [
    "grid.fit(x_train,y_train)"
   ]
  },
  {
   "cell_type": "code",
   "execution_count": 104,
   "id": "948444d8",
   "metadata": {},
   "outputs": [
    {
     "name": "stdout",
     "output_type": "stream",
     "text": [
      "Best Estimators == > \n",
      " {'C': 2.0, 'max_iter': 110, 'penalty': 'l1', 'solver': 'liblinear'}\n"
     ]
    }
   ],
   "source": [
    "print('Best Estimators == > \\n', grid.best_params_)"
   ]
  },
  {
   "cell_type": "code",
   "execution_count": 105,
   "id": "5a886fe2",
   "metadata": {},
   "outputs": [],
   "source": [
    "clf= grid.best_estimator_"
   ]
  },
  {
   "cell_type": "code",
   "execution_count": 106,
   "id": "a7a9336b",
   "metadata": {},
   "outputs": [
    {
     "data": {
      "text/plain": [
       "LogisticRegression(C=2.0, max_iter=110, penalty='l1', solver='liblinear')"
      ]
     },
     "execution_count": 106,
     "metadata": {},
     "output_type": "execute_result"
    }
   ],
   "source": [
    "clf.fit(x_train, y_train)"
   ]
  },
  {
   "cell_type": "code",
   "execution_count": 107,
   "id": "17352faa",
   "metadata": {},
   "outputs": [],
   "source": [
    "y_pred =  clf.predict(x_test)"
   ]
  },
  {
   "cell_type": "code",
   "execution_count": 108,
   "id": "dfd67301",
   "metadata": {},
   "outputs": [
    {
     "name": "stdout",
     "output_type": "stream",
     "text": [
      "Accuracy Score= 0.9587646955606247\n",
      "Confusion Matrix\n",
      " [[35446   376]\n",
      " [ 1269  2802]]\n",
      "ROC_AUC Score= 0.8388933170630334\n",
      "Classification Report\n",
      "               precision    recall  f1-score   support\n",
      "\n",
      "           0       0.97      0.99      0.98     35822\n",
      "           1       0.88      0.69      0.77      4071\n",
      "\n",
      "    accuracy                           0.96     39893\n",
      "   macro avg       0.92      0.84      0.88     39893\n",
      "weighted avg       0.96      0.96      0.96     39893\n",
      "\n"
     ]
    }
   ],
   "source": [
    "print('Accuracy Score=',accuracy_score(y_test,y_pred))\n",
    "print('Confusion Matrix\\n',confusion_matrix(y_test,y_pred))\n",
    "print('ROC_AUC Score=',roc_auc_score(y_test,y_pred))\n",
    "print('Classification Report\\n',classification_report(y_test,y_pred))"
   ]
  },
  {
   "cell_type": "code",
   "execution_count": 112,
   "id": "0c31ced0",
   "metadata": {},
   "outputs": [
    {
     "data": {
      "text/plain": [
       "0.9597357886409617"
      ]
     },
     "execution_count": 112,
     "metadata": {},
     "output_type": "execute_result"
    }
   ],
   "source": [
    "#Cross Validating.\n",
    "\n",
    "from sklearn.model_selection import cross_val_score\n",
    "\n",
    "cvs_lr = cross_val_score(clf,x,y,cv=4)\n",
    "\n",
    "cvs_lr.mean()"
   ]
  },
  {
   "cell_type": "code",
   "execution_count": 113,
   "id": "0cc80b32",
   "metadata": {},
   "outputs": [
    {
     "data": {
      "image/png": "[encoded data removed]",
      "text/plain": [
       "<Figure size 432x288 with 1 Axes>"
      ]
     },
     "metadata": {
      "needs_background": "light"
     },
     "output_type": "display_data"
    }
   ],
   "source": [
    "#Plotting ROC_AUC Curve for the model\n",
    "plot_roc_curve(clf,x_test,y_test)\n",
    "plt.title('Roc_Auc_Curve', fontsize = 10)\n",
    "plt.tight_layout()"
   ]
  },
  {
   "cell_type": "code",
   "execution_count": 86,
   "id": "dc84c92f",
   "metadata": {},
   "outputs": [],
   "source": [
    "#XGB Classifier"
   ]
  },
  {
   "cell_type": "code",
   "execution_count": 88,
   "id": "13409076",
   "metadata": {},
   "outputs": [],
   "source": [
    "xgb_params = {'n_estimators':[100,120],\n",
    "         'criterion':['gini','entropy'],\n",
    "        'learning_rate' :[0.25,0.30],\n",
    "          'booster':['gbtree','dart'],\n",
    "         'max_depth':[5,6]}"
   ]
  },
  {
   "cell_type": "code",
   "execution_count": 89,
   "id": "540c5d6a",
   "metadata": {},
   "outputs": [],
   "source": [
    "xgb_grid = GridSearchCV(xgb, param_grid= xgb_params, cv = 2, n_jobs=-1)"
   ]
  },
  {
   "cell_type": "code",
   "execution_count": 91,
   "id": "fb2bcb9d",
   "metadata": {},
   "outputs": [
    {
     "name": "stdout",
     "output_type": "stream",
     "text": [
      "[23:40:12] WARNING: ..\\src\\learner.cc:541: \n",
      "Parameters: { criterion } might not be used.\n",
      "\n",
      "  This may not be accurate due to some parameters are only used in language bindings but\n",
      "  passed down to XGBoost core.  Or some parameters are not used but slip through this\n",
      "  verification. Please open an issue if you find above cases.\n",
      "\n",
      "\n",
      "[23:40:13] WARNING: ..\\src\\learner.cc:1061: Starting in XGBoost 1.3.0, the default evaluation metric used with the objective 'binary:logistic' was changed from 'error' to 'logloss'. Explicitly set eval_metric if you'd like to restore the old behavior.\n",
      "Best Estimators == > \n",
      " {'booster': 'gbtree', 'criterion': 'gini', 'learning_rate': 0.3, 'max_depth': 6, 'n_estimators': 120}\n"
     ]
    }
   ],
   "source": [
    "xgb_grid.fit(x_train,y_train)\n",
    "print('Best Estimators == > \\n', xgb_grid.best_params_)"
   ]
  },
  {
   "cell_type": "code",
   "execution_count": 93,
   "id": "6e7968f4",
   "metadata": {},
   "outputs": [
    {
     "name": "stdout",
     "output_type": "stream",
     "text": [
      "[23:52:10] WARNING: ..\\src\\learner.cc:541: \n",
      "Parameters: { criterion } might not be used.\n",
      "\n",
      "  This may not be accurate due to some parameters are only used in language bindings but\n",
      "  passed down to XGBoost core.  Or some parameters are not used but slip through this\n",
      "  verification. Please open an issue if you find above cases.\n",
      "\n",
      "\n",
      "[23:52:11] WARNING: ..\\src\\learner.cc:1061: Starting in XGBoost 1.3.0, the default evaluation metric used with the objective 'binary:logistic' was changed from 'error' to 'logloss'. Explicitly set eval_metric if you'd like to restore the old behavior.\n"
     ]
    }
   ],
   "source": [
    "xgb_gridclf= xgb_grid.best_estimator_\n",
    "xgb_gridclf.fit(x_train, y_train)\n",
    "xgb_gridclf_y_pred =  xgb_gridclf.predict(x_test)"
   ]
  },
  {
   "cell_type": "code",
   "execution_count": 94,
   "id": "65b05afb",
   "metadata": {},
   "outputs": [
    {
     "name": "stdout",
     "output_type": "stream",
     "text": [
      "---Confusion Matrix for XGB Classifier---\n",
      "\n",
      " [[35599   223]\n",
      " [ 1675  2396]]\n",
      "---Accuracy Score for XGB Classifier---\n",
      "\n",
      " 0.9524227308049031\n",
      "\n",
      "---Classification Report for XGB Classifier---\n",
      "\n",
      "               precision    recall  f1-score   support\n",
      "\n",
      "           0       0.96      0.99      0.97     35822\n",
      "           1       0.91      0.59      0.72      4071\n",
      "\n",
      "    accuracy                           0.95     39893\n",
      "   macro avg       0.93      0.79      0.85     39893\n",
      "weighted avg       0.95      0.95      0.95     39893\n",
      "\n",
      "\n",
      "---ROC AUC SCORE---\n",
      "\n",
      " 0.7911639781571814\n"
     ]
    }
   ],
   "source": [
    "print('---Confusion Matrix for XGB Classifier---\\n\\n', confusion_matrix(y_test,xgb_gridclf_y_pred))\n",
    "print('---Accuracy Score for XGB Classifier---\\n\\n',accuracy_score(y_test,xgb_gridclf_y_pred))\n",
    "print('\\n---Classification Report for XGB Classifier---\\n\\n',classification_report(y_test,xgb_gridclf_y_pred))\n",
    "print('\\n---ROC AUC SCORE---\\n\\n',roc_auc_score(y_test,xgb_gridclf_y_pred))"
   ]
  },
  {
   "cell_type": "code",
   "execution_count": 95,
   "id": "e09700a6",
   "metadata": {},
   "outputs": [
    {
     "name": "stdout",
     "output_type": "stream",
     "text": [
      "[23:55:31] WARNING: ..\\src\\learner.cc:541: \n",
      "Parameters: { criterion } might not be used.\n",
      "\n",
      "  This may not be accurate due to some parameters are only used in language bindings but\n",
      "  passed down to XGBoost core.  Or some parameters are not used but slip through this\n",
      "  verification. Please open an issue if you find above cases.\n",
      "\n",
      "\n",
      "[23:55:32] WARNING: ..\\src\\learner.cc:1061: Starting in XGBoost 1.3.0, the default evaluation metric used with the objective 'binary:logistic' was changed from 'error' to 'logloss'. Explicitly set eval_metric if you'd like to restore the old behavior.\n",
      "[23:57:22] WARNING: ..\\src\\learner.cc:541: \n",
      "Parameters: { criterion } might not be used.\n",
      "\n",
      "  This may not be accurate due to some parameters are only used in language bindings but\n",
      "  passed down to XGBoost core.  Or some parameters are not used but slip through this\n",
      "  verification. Please open an issue if you find above cases.\n",
      "\n",
      "\n",
      "[23:57:23] WARNING: ..\\src\\learner.cc:1061: Starting in XGBoost 1.3.0, the default evaluation metric used with the objective 'binary:logistic' was changed from 'error' to 'logloss'. Explicitly set eval_metric if you'd like to restore the old behavior.\n",
      "[23:59:32] WARNING: ..\\src\\learner.cc:541: \n",
      "Parameters: { criterion } might not be used.\n",
      "\n",
      "  This may not be accurate due to some parameters are only used in language bindings but\n",
      "  passed down to XGBoost core.  Or some parameters are not used but slip through this\n",
      "  verification. Please open an issue if you find above cases.\n",
      "\n",
      "\n",
      "[23:59:33] WARNING: ..\\src\\learner.cc:1061: Starting in XGBoost 1.3.0, the default evaluation metric used with the objective 'binary:logistic' was changed from 'error' to 'logloss'. Explicitly set eval_metric if you'd like to restore the old behavior.\n",
      "[00:01:32] WARNING: ..\\src\\learner.cc:541: \n",
      "Parameters: { criterion } might not be used.\n",
      "\n",
      "  This may not be accurate due to some parameters are only used in language bindings but\n",
      "  passed down to XGBoost core.  Or some parameters are not used but slip through this\n",
      "  verification. Please open an issue if you find above cases.\n",
      "\n",
      "\n",
      "[00:01:33] WARNING: ..\\src\\learner.cc:1061: Starting in XGBoost 1.3.0, the default evaluation metric used with the objective 'binary:logistic' was changed from 'error' to 'logloss'. Explicitly set eval_metric if you'd like to restore the old behavior.\n"
     ]
    },
    {
     "data": {
      "text/plain": [
       "0.9536507238043457"
      ]
     },
     "execution_count": 95,
     "metadata": {},
     "output_type": "execute_result"
    }
   ],
   "source": [
    "#Cross Validating.\n",
    "\n",
    "from sklearn.model_selection import cross_val_score\n",
    "\n",
    "cvs_xgb = cross_val_score(xgb_gridclf,x,y,cv=4)\n",
    "\n",
    "cvs_xgb.mean()"
   ]
  },
  {
   "cell_type": "code",
   "execution_count": 96,
   "id": "52df7974",
   "metadata": {},
   "outputs": [
    {
     "data": {
      "image/png": "[encoded data removed]",
      "text/plain": [
       "<Figure size 432x288 with 1 Axes>"
      ]
     },
     "metadata": {
      "needs_background": "light"
     },
     "output_type": "display_data"
    }
   ],
   "source": [
    "#Plotting ROC_AUC Curve for the model\n",
    "\n",
    "plot_roc_curve(xgb_gridclf,x_test,y_test)\n",
    "\n",
    "plt.title('Roc_Auc_Curve', fontsize = 10)\n",
    "\n",
    "plt.tight_layout()"
   ]
  },
  {
   "cell_type": "code",
   "execution_count": 97,
   "id": "bed2fedb",
   "metadata": {},
   "outputs": [],
   "source": [
    "#Random Forest"
   ]
  },
  {
   "cell_type": "code",
   "execution_count": 103,
   "id": "04e3acd4",
   "metadata": {},
   "outputs": [],
   "source": [
    "rf_params = {'n_estimators':[100,120],\n",
    "         'max_depth':list(range(1,5,1)),\n",
    "         'min_samples_split':list(range(1,6,1)),\n",
    "         'min_samples_leaf':list(range(1,5,1))}"
   ]
  },
  {
   "cell_type": "code",
   "execution_count": 104,
   "id": "e9e0fd46",
   "metadata": {},
   "outputs": [],
   "source": [
    "rf_grid = GridSearchCV(rf, param_grid= rf_params, cv = 2, n_jobs=-1)"
   ]
  },
  {
   "cell_type": "code",
   "execution_count": 105,
   "id": "b4e133b4",
   "metadata": {},
   "outputs": [
    {
     "name": "stdout",
     "output_type": "stream",
     "text": [
      "Best Estimators == > \n",
      " {'max_depth': 1, 'min_samples_leaf': 1, 'min_samples_split': 2, 'n_estimators': 100}\n"
     ]
    }
   ],
   "source": [
    "rf_grid.fit(x_train,y_train)\n",
    "print('Best Estimators == > \\n', rf_grid.best_params_)"
   ]
  },
  {
   "cell_type": "code",
   "execution_count": 106,
   "id": "c3c5a052",
   "metadata": {},
   "outputs": [],
   "source": [
    "rf_clf= rf_grid.best_estimator_\n",
    "rf_clf.fit(x_train, y_train)\n",
    "rf_clf_y_pred = rf_clf.predict(x_test)"
   ]
  },
  {
   "cell_type": "code",
   "execution_count": 107,
   "id": "e4ca0111",
   "metadata": {},
   "outputs": [
    {
     "name": "stdout",
     "output_type": "stream",
     "text": [
      "---Confusion Matrix for Random Forest Classifier---\n",
      "\n",
      " [[35822     0]\n",
      " [ 4071     0]]\n",
      "---Accuracy Score for Random Forest Classifier---\n",
      "\n",
      " 0.897952021657935\n",
      "\n",
      "---Classification Report for Random Forest Classifier---\n",
      "\n",
      "               precision    recall  f1-score   support\n",
      "\n",
      "           0       0.90      1.00      0.95     35822\n",
      "           1       0.00      0.00      0.00      4071\n",
      "\n",
      "    accuracy                           0.90     39893\n",
      "   macro avg       0.45      0.50      0.47     39893\n",
      "weighted avg       0.81      0.90      0.85     39893\n",
      "\n",
      "\n",
      "---ROC AUC SCORE---\n",
      "\n",
      " 0.5\n"
     ]
    }
   ],
   "source": [
    "print('---Confusion Matrix for Random Forest Classifier---\\n\\n', confusion_matrix(y_test,rf_clf_y_pred))\n",
    "print('---Accuracy Score for Random Forest Classifier---\\n\\n',accuracy_score(y_test,rf_clf_y_pred))\n",
    "print('\\n---Classification Report for Random Forest Classifier---\\n\\n',classification_report(y_test,rf_clf_y_pred))\n",
    "print('\\n---ROC AUC SCORE---\\n\\n',roc_auc_score(y_test,rf_clf_y_pred))"
   ]
  },
  {
   "cell_type": "code",
   "execution_count": 108,
   "id": "b8fb197c",
   "metadata": {},
   "outputs": [
    {
     "data": {
      "text/plain": [
       "0.8983211235397112"
      ]
     },
     "execution_count": 108,
     "metadata": {},
     "output_type": "execute_result"
    }
   ],
   "source": [
    "#Cross Validating.\n",
    "\n",
    "from sklearn.model_selection import cross_val_score\n",
    "\n",
    "cvs_rf = cross_val_score(rf_clf,x,y,cv=4)\n",
    "\n",
    "cvs_rf.mean()"
   ]
  },
  {
   "cell_type": "code",
   "execution_count": 109,
   "id": "36b35cec",
   "metadata": {},
   "outputs": [
    {
     "data": {
      "image/png": "[encoded data removed]",
      "text/plain": [
       "<Figure size 432x288 with 1 Axes>"
      ]
     },
     "metadata": {
      "needs_background": "light"
     },
     "output_type": "display_data"
    }
   ],
   "source": [
    "#Plotting ROC_AUC Curve for the model\n",
    "\n",
    "plot_roc_curve(rf_clf,x_test,y_test)\n",
    "\n",
    "plt.title('Roc_Auc_Curve', fontsize = 10)\n",
    "\n",
    "plt.tight_layout()"
   ]
  },
  {
   "cell_type": "code",
   "execution_count": null,
   "id": "26439e55",
   "metadata": {},
   "outputs": [],
   "source": []
  },
  {
   "cell_type": "code",
   "execution_count": null,
   "id": "41f04763",
   "metadata": {},
   "outputs": [],
   "source": []
  }
 ],
 "metadata": {
  "kernelspec": {
   "display_name": "Python [conda env:root] *",
   "language": "python",
   "name": "conda-root-py"
  },
  "language_info": {
   "codemirror_mode": {
    "name": "ipython",
    "version": 3
   },
   "file_extension": ".py",
   "mimetype": "text/x-python",
   "name": "python",
   "nbconvert_exporter": "python",
   "pygments_lexer": "ipython3",
   "version": "3.8.11"
  }
 },
 "nbformat": 4,
 "nbformat_minor": 5
}
